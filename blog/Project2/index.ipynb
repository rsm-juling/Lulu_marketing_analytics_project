{
 "cells": [
  {
   "cell_type": "code",
   "execution_count": 12,
   "id": "5db607d3",
   "metadata": {},
   "outputs": [],
   "source": [
    "import pandas as pd"
   ]
  },
  {
   "cell_type": "code",
   "execution_count": 13,
   "id": "9abf93bc",
   "metadata": {},
   "outputs": [
    {
     "data": {
      "application/vnd.microsoft.datawrangler.viewer.v0+json": {
       "columns": [
        {
         "name": "index",
         "rawType": "int64",
         "type": "integer"
        },
        {
         "name": "patents",
         "rawType": "int64",
         "type": "integer"
        },
        {
         "name": "region",
         "rawType": "object",
         "type": "string"
        },
        {
         "name": "age",
         "rawType": "float64",
         "type": "float"
        },
        {
         "name": "iscustomer",
         "rawType": "int64",
         "type": "integer"
        }
       ],
       "conversionMethod": "pd.DataFrame",
       "ref": "e03e37ea-0208-485d-beb1-3e5f2971c87e",
       "rows": [
        [
         "0",
         "0",
         "Midwest",
         "32.5",
         "0"
        ],
        [
         "1",
         "3",
         "Southwest",
         "37.5",
         "0"
        ],
        [
         "2",
         "4",
         "Northwest",
         "27.0",
         "1"
        ],
        [
         "3",
         "3",
         "Northeast",
         "24.5",
         "0"
        ],
        [
         "4",
         "3",
         "Southwest",
         "37.0",
         "0"
        ]
       ],
       "shape": {
        "columns": 4,
        "rows": 5
       }
      },
      "text/html": [
       "<div>\n",
       "<style scoped>\n",
       "    .dataframe tbody tr th:only-of-type {\n",
       "        vertical-align: middle;\n",
       "    }\n",
       "\n",
       "    .dataframe tbody tr th {\n",
       "        vertical-align: top;\n",
       "    }\n",
       "\n",
       "    .dataframe thead th {\n",
       "        text-align: right;\n",
       "    }\n",
       "</style>\n",
       "<table border=\"1\" class=\"dataframe\">\n",
       "  <thead>\n",
       "    <tr style=\"text-align: right;\">\n",
       "      <th></th>\n",
       "      <th>patents</th>\n",
       "      <th>region</th>\n",
       "      <th>age</th>\n",
       "      <th>iscustomer</th>\n",
       "    </tr>\n",
       "  </thead>\n",
       "  <tbody>\n",
       "    <tr>\n",
       "      <th>0</th>\n",
       "      <td>0</td>\n",
       "      <td>Midwest</td>\n",
       "      <td>32.5</td>\n",
       "      <td>0</td>\n",
       "    </tr>\n",
       "    <tr>\n",
       "      <th>1</th>\n",
       "      <td>3</td>\n",
       "      <td>Southwest</td>\n",
       "      <td>37.5</td>\n",
       "      <td>0</td>\n",
       "    </tr>\n",
       "    <tr>\n",
       "      <th>2</th>\n",
       "      <td>4</td>\n",
       "      <td>Northwest</td>\n",
       "      <td>27.0</td>\n",
       "      <td>1</td>\n",
       "    </tr>\n",
       "    <tr>\n",
       "      <th>3</th>\n",
       "      <td>3</td>\n",
       "      <td>Northeast</td>\n",
       "      <td>24.5</td>\n",
       "      <td>0</td>\n",
       "    </tr>\n",
       "    <tr>\n",
       "      <th>4</th>\n",
       "      <td>3</td>\n",
       "      <td>Southwest</td>\n",
       "      <td>37.0</td>\n",
       "      <td>0</td>\n",
       "    </tr>\n",
       "  </tbody>\n",
       "</table>\n",
       "</div>"
      ],
      "text/plain": [
       "   patents     region   age  iscustomer\n",
       "0        0    Midwest  32.5           0\n",
       "1        3  Southwest  37.5           0\n",
       "2        4  Northwest  27.0           1\n",
       "3        3  Northeast  24.5           0\n",
       "4        3  Southwest  37.0           0"
      ]
     },
     "execution_count": 13,
     "metadata": {},
     "output_type": "execute_result"
    }
   ],
   "source": [
    "blueprinty = pd.read_csv('blueprinty.csv')\n",
    "blueprinty.head(5)"
   ]
  },
  {
   "cell_type": "code",
   "execution_count": 14,
   "id": "6d1a5189",
   "metadata": {},
   "outputs": [
    {
     "name": "stdout",
     "output_type": "stream",
     "text": [
      "Mean number of patents by customer status:\n",
      "iscustomer\n",
      "0    3.473013\n",
      "1    4.133056\n",
      "Name: patents, dtype: float64\n"
     ]
    },
    {
     "data": {
      "image/png": "[encoded data removed]",
      "text/plain": [
       "<Figure size 640x480 with 1 Axes>"
      ]
     },
     "metadata": {},
     "output_type": "display_data"
    }
   ],
   "source": [
    "import matplotlib.pyplot as plt\n",
    "\n",
    "# Group data by customer status and calculate the mean\n",
    "means = blueprinty.groupby('iscustomer')['patents'].mean()\n",
    "print(\"Mean number of patents by customer status:\")\n",
    "print(means)\n",
    "\n",
    "# Plot histograms for each customer status\n",
    "statuses = blueprinty['iscustomer'].unique()\n",
    "for status in statuses:\n",
    "    subset = blueprinty[blueprinty['iscustomer'] == status]\n",
    "    plt.hist(subset['patents'], alpha=0.5, label=f'Status: {status}')\n",
    "\n",
    "plt.xlabel('Number of Patents')\n",
    "plt.ylabel('Frequency')\n",
    "plt.title('Histograms of Number of Patents by Customer Status')\n",
    "plt.legend()\n",
    "plt.show()"
   ]
  },
  {
   "cell_type": "code",
   "execution_count": 15,
   "id": "93205c33",
   "metadata": {},
   "outputs": [
    {
     "name": "stderr",
     "output_type": "stream",
     "text": [
      "/tmp/ipykernel_27691/1092680387.py:14: FutureWarning: \n",
      "\n",
      "Passing `palette` without assigning `hue` is deprecated and will be removed in v0.14.0. Assign the `x` variable to `hue` and set `legend=False` for the same effect.\n",
      "\n",
      "  sns.barplot(data=blueprinty, x=\"iscustomer\", y=\"patents\", palette=\"Set1\", estimator=np.mean)\n"
     ]
    },
    {
     "data": {
      "image/png": "[encoded data removed]",
      "text/plain": [
       "<Figure size 1200x500 with 2 Axes>"
      ]
     },
     "metadata": {},
     "output_type": "display_data"
    }
   ],
   "source": [
    "import matplotlib.pyplot as plt\n",
    "import seaborn as sns\n",
    "import numpy as np\n",
    "plt.figure(figsize=(12, 5))\n",
    "\n",
    "plt.subplot(1, 2, 1)\n",
    "sns.histplot(data=blueprinty, x=\"patents\",hue='iscustomer', kde=False, bins=15, palette=\"Set1\", multiple=\"stack\")\n",
    "plt.title(\"Distribution of Patent Counts by Customer Status\")\n",
    "plt.xlabel(\"Number of Patents\")\n",
    "plt.ylabel(\"Number of Firms\")\n",
    "plt.legend(title=\"Blueprinty Customer\", labels=[\"No\", \"Yes\"])\n",
    "\n",
    "plt.subplot(1, 2, 2)\n",
    "sns.barplot(data=blueprinty, x=\"iscustomer\", y=\"patents\", palette=\"Set1\", estimator=np.mean)\n",
    "plt.title(\"Average Number of Patents by Customer Status\")\n",
    "plt.xlabel(\"Blueprinty Customer\")\n",
    "plt.ylabel(\"Average Patent Count\")\n",
    "plt.xticks([0, 1], [\"No\", \"Yes\"])\n",
    "\n",
    "plt.tight_layout()\n",
    "plt.show()"
   ]
  },
  {
   "cell_type": "code",
   "execution_count": 16,
   "id": "f1305635",
   "metadata": {},
   "outputs": [
    {
     "data": {
      "image/png": "[encoded data removed]",
      "text/plain": [
       "<Figure size 1200x500 with 2 Axes>"
      ]
     },
     "metadata": {},
     "output_type": "display_data"
    }
   ],
   "source": [
    "plt.figure(figsize=(12, 5))\n",
    "\n",
    "plt.subplot(1, 2, 1)\n",
    "sns.histplot(data=blueprinty, x=\"patents\", hue='iscustomer', kde=False, bins=15, palette=\"Set1\", multiple=\"stack\")\n",
    "plt.title(\"Distribution of Patent Counts by Customer Status\")\n",
    "plt.xlabel(\"Number of Patents\")\n",
    "plt.ylabel(\"Number of Firms\")\n",
    "plt.legend(title=\"Blueprinty Customer\", labels=[\"No\", \"Yes\"])\n",
    "\n",
    "plt.subplot(1, 2, 2)\n",
    "sns.barplot(data=blueprinty, x=\"iscustomer\", y=\"patents\", hue=\"iscustomer\", palette=\"Set1\", estimator=np.mean, dodge=False, legend=False)\n",
    "plt.title(\"Average Number of Patents by Customer Status\")\n",
    "plt.xlabel(\"Blueprinty Customer\")\n",
    "plt.ylabel(\"Average Patent Count\")\n",
    "plt.xticks([0, 1], [\"No\", \"Yes\"])\n",
    "\n",
    "plt.tight_layout()\n",
    "plt.show()"
   ]
  },
  {
   "cell_type": "code",
   "execution_count": null,
   "id": "3b4152b9",
   "metadata": {},
   "outputs": [],
   "source": []
  },
  {
   "cell_type": "code",
   "execution_count": 17,
   "id": "b65921f1",
   "metadata": {},
   "outputs": [
    {
     "data": {
      "image/png": "[encoded data removed]",
      "text/plain": [
       "<Figure size 1200x500 with 2 Axes>"
      ]
     },
     "metadata": {},
     "output_type": "display_data"
    }
   ],
   "source": [
    "plt.figure(figsize=(12, 5))\n",
    "\n",
    "plt.subplot(1, 2, 1)\n",
    "sns.histplot(data=blueprinty, x=\"age\", hue=\"iscustomer\", kde=True, bins=20, palette=\"Set2\", element=\"step\", stat=\"density\", common_norm=False)\n",
    "plt.title(\"Distribution of Firm Age by Customer Status\")\n",
    "plt.xlabel(\"Firm Age (Years)\")\n",
    "plt.ylabel(\"Density\")\n",
    "plt.legend(title=\"Blueprinty Customer\", labels=[\"No\", \"Yes\"])\n",
    "\n",
    "plt.subplot(1, 2, 2)\n",
    "region_counts = pd.crosstab(blueprinty[\"region\"], blueprinty[\"iscustomer\"], normalize=\"index\") * 100\n",
    "region_counts.plot(kind=\"bar\", stacked=True, ax=plt.gca(), colormap=\"Set2\")\n",
    "plt.title(\"Regional Composition by Customer Status\")\n",
    "plt.xlabel(\"Region\")\n",
    "plt.ylabel(\"Percentage (%)\")\n",
    "plt.legend(title=\"Blueprinty Customer\", labels=[\"No\", \"Yes\"])\n",
    "\n",
    "plt.tight_layout()\n",
    "plt.show()"
   ]
  },
  {
   "cell_type": "code",
   "execution_count": 18,
   "id": "01f322b4",
   "metadata": {},
   "outputs": [
    {
     "data": {
      "text/latex": [
       "$\\displaystyle \\frac{\\lambda^{Y} e^{- \\lambda}}{Y!}$"
      ],
      "text/plain": [
       "lambda**Y*exp(-lambda)/factorial(Y)"
      ]
     },
     "execution_count": 18,
     "metadata": {},
     "output_type": "execute_result"
    }
   ],
   "source": [
    "from sympy import symbols, factorial, exp\n",
    "\n",
    "# Define variables\n",
    "Y, lam = symbols('Y lambda', positive=True)\n",
    "\n",
    "# Define the likelihood function\n",
    "likelihood = (exp(-lam) * lam**Y) / factorial(Y)\n",
    "likelihood"
   ]
  },
  {
   "cell_type": "code",
   "execution_count": 19,
   "id": "d829b332",
   "metadata": {},
   "outputs": [
    {
     "data": {
      "image/png": "[encoded data removed]",
      "text/plain": [
       "<Figure size 800x200 with 1 Axes>"
      ]
     },
     "metadata": {},
     "output_type": "display_data"
    }
   ],
   "source": [
    "import matplotlib.pyplot as plt\n",
    "\n",
    "# 顯示數學公式：Poisson likelihood 展開形式\n",
    "fig, ax = plt.subplots(figsize=(8, 2))\n",
    "\n",
    "text = r\"$L(\\lambda) = \\prod_{i=1}^n \\frac{e^{-\\lambda} \\lambda^{Y_i}}{Y_i!} = e^{-n\\lambda} \\cdot \\lambda^{\\sum Y_i} \\cdot \\frac{1}{\\prod Y_i!}$\"\n",
    "\n",
    "ax.text(0.5, 0.5, text, fontsize=18, ha='center', va='center')\n",
    "ax.axis('off')\n",
    "plt.tight_layout()\n",
    "plt.show()"
   ]
  },
  {
   "cell_type": "code",
   "execution_count": 20,
   "id": "181b9685",
   "metadata": {},
   "outputs": [
    {
     "data": {
      "text/latex": [
       "$\\displaystyle L(\\lambda) = \\prod_{i=1}^n \\frac{e^{-\\lambda} \\lambda^{Y_i}}{Y_i!} = e^{-n\\lambda} \\cdot \\lambda^{\\sum Y_i} \\cdot \\frac{1}{\\prod Y_i!}$"
      ],
      "text/plain": [
       "<IPython.core.display.Math object>"
      ]
     },
     "metadata": {},
     "output_type": "display_data"
    }
   ],
   "source": [
    "from IPython.display import display, Math\n",
    "\n",
    "display(Math(r\"L(\\lambda) = \\prod_{i=1}^n \\frac{e^{-\\lambda} \\lambda^{Y_i}}{Y_i!} = e^{-n\\lambda} \\cdot \\lambda^{\\sum Y_i} \\cdot \\frac{1}{\\prod Y_i!}\"))"
   ]
  },
  {
   "cell_type": "code",
   "execution_count": 21,
   "id": "17535084",
   "metadata": {},
   "outputs": [
    {
     "data": {
      "text/latex": [
       "$\\displaystyle \\log{\\left(\\frac{\\lambda^{Y} e^{- \\lambda}}{Y!} \\right)}$"
      ],
      "text/plain": [
       "log(lambda**Y*exp(-lambda)/factorial(Y))"
      ]
     },
     "execution_count": 21,
     "metadata": {},
     "output_type": "execute_result"
    }
   ],
   "source": [
    "from sympy import log\n",
    "\n",
    "log_likelihood = log(likelihood)\n",
    "log_likelihood"
   ]
  },
  {
   "cell_type": "code",
   "execution_count": 22,
   "id": "df756684",
   "metadata": {},
   "outputs": [],
   "source": [
    "from sympy import lambdify\n",
    "\n",
    "def poisson_loglikelihood(lam_val, Y_val):\n",
    "    # Convert the symbolic log-likelihood to a numerical function\n",
    "    log_likelihood_func = lambdify((lam, Y), log_likelihood, 'numpy')\n",
    "    return log_likelihood_func(lam_val, Y_val)"
   ]
  },
  {
   "cell_type": "code",
   "execution_count": 23,
   "id": "15eaff51",
   "metadata": {},
   "outputs": [
    {
     "data": {
      "image/png": "[encoded data removed]",
      "text/plain": [
       "<Figure size 1000x600 with 1 Axes>"
      ]
     },
     "metadata": {},
     "output_type": "display_data"
    }
   ],
   "source": [
    "import numpy as np\n",
    "\n",
    "import matplotlib.pyplot as plt\n",
    "\n",
    "# Define a range of lambda values\n",
    "lambda_values = np.linspace(0.1, 10, 100)\n",
    "\n",
    "# Use the observed number of patents as the input for Y\n",
    "observed_patents = int(blueprinty['patents'].mean())\n",
    "\n",
    "# Calculate the log-likelihood for each lambda value\n",
    "log_likelihood_values = [poisson_loglikelihood(lam_val, observed_patents) for lam_val in lambda_values]\n",
    "\n",
    "# Plot the log-likelihood\n",
    "plt.figure(figsize=(10, 6))\n",
    "plt.plot(lambda_values, log_likelihood_values, label='Log-Likelihood', color='blue')\n",
    "plt.xlabel('Lambda')\n",
    "plt.ylabel('Log-Likelihood')\n",
    "plt.title('Log-Likelihood vs Lambda')\n",
    "plt.legend()\n",
    "plt.grid()\n",
    "plt.show()"
   ]
  },
  {
   "cell_type": "code",
   "execution_count": 24,
   "id": "19f8b1fb",
   "metadata": {},
   "outputs": [
    {
     "name": "stderr",
     "output_type": "stream",
     "text": [
      "<>:14: SyntaxWarning: invalid escape sequence '\\l'\n",
      "<>:14: SyntaxWarning: invalid escape sequence '\\l'\n",
      "/tmp/ipykernel_27691/1317870001.py:14: SyntaxWarning: invalid escape sequence '\\l'\n",
      "  + f\"-{n}\\\\cdot {lmbda:.3f} + {sum_y}\\\\cdot \\log({lmbda:.3f}) - {sum_log_fact_y:.3f}\"\n"
     ]
    }
   ],
   "source": [
    "from IPython.display import display, Math\n",
    "\n",
    "def display_poisson_loglikelihood_formula(lmbda, Y):\n",
    "    if lmbda <= 0:\n",
    "        display(Math(r\"\\text{Invalid: } \\lambda \\leq 0\"))\n",
    "        return\n",
    "    n = len(Y)\n",
    "    sum_y = np.sum(Y)\n",
    "    sum_log_fact_y = np.sum(np.log(factorial(Y)))\n",
    "\n",
    "    # 組成 LaTeX 公式字串\n",
    "    formula = (\n",
    "        r\"\\log L(\\lambda) = \"\n",
    "        + f\"-{n}\\\\cdot {lmbda:.3f} + {sum_y}\\\\cdot \\log({lmbda:.3f}) - {sum_log_fact_y:.3f}\"\n",
    "    )\n",
    "    display(Math(formula))"
   ]
  },
  {
   "cell_type": "code",
   "execution_count": 25,
   "id": "b8205c67",
   "metadata": {},
   "outputs": [
    {
     "name": "stderr",
     "output_type": "stream",
     "text": [
      "<>:22: SyntaxWarning: invalid escape sequence '\\l'\n",
      "<>:22: SyntaxWarning: invalid escape sequence '\\l'\n",
      "/tmp/ipykernel_27691/295458998.py:22: SyntaxWarning: invalid escape sequence '\\l'\n",
      "  + f\"-{n}\\\\cdot {lmbda:.3f} + {sum_y}\\\\cdot \\log({lmbda:.3f}) - {sum_log_fact_y:.3f}\"\n"
     ]
    }
   ],
   "source": [
    "import numpy as np\n",
    "from scipy.special import factorial\n",
    "\n",
    "def poisson_loglikelihood(lmbda, Y):\n",
    "    if lmbda <= 0:\n",
    "        return -np.inf\n",
    "    n = len(Y)\n",
    "    return -n * lmbda + np.sum(Y * np.log(lmbda)) - np.sum(np.log(factorial(Y)))\n",
    "from IPython.display import display, Math\n",
    "\n",
    "def display_poisson_loglikelihood_formula(lmbda, Y):\n",
    "    if lmbda <= 0:\n",
    "        display(Math(r\"\\text{Invalid: } \\lambda \\leq 0\"))\n",
    "        return\n",
    "    n = len(Y)\n",
    "    sum_y = np.sum(Y)\n",
    "    sum_log_fact_y = np.sum(np.log(factorial(Y)))\n",
    "\n",
    "    # 組成 LaTeX 公式字串\n",
    "    formula = (\n",
    "        r\"\\log L(\\lambda) = \"\n",
    "        + f\"-{n}\\\\cdot {lmbda:.3f} + {sum_y}\\\\cdot \\log({lmbda:.3f}) - {sum_log_fact_y:.3f}\"\n",
    "    )\n",
    "    display(Math(formula))"
   ]
  },
  {
   "cell_type": "code",
   "execution_count": 26,
   "id": "d69da7cc",
   "metadata": {},
   "outputs": [
    {
     "data": {
      "text/latex": [
       "$\\displaystyle \\textbf{Step 1: Define the log-likelihood function}$"
      ],
      "text/plain": [
       "<IPython.core.display.Math object>"
      ]
     },
     "metadata": {},
     "output_type": "display_data"
    },
    {
     "data": {
      "text/latex": [
       "$\\displaystyle \\log L(\\lambda) = -n\\lambda + \\left(\\sum Y_i\\right)\\log \\lambda$"
      ],
      "text/plain": [
       "<IPython.core.display.Math object>"
      ]
     },
     "metadata": {},
     "output_type": "display_data"
    },
    {
     "data": {
      "text/latex": [
       "$\\displaystyle \\textbf{Step 2: Take the first derivative}$"
      ],
      "text/plain": [
       "<IPython.core.display.Math object>"
      ]
     },
     "metadata": {},
     "output_type": "display_data"
    },
    {
     "data": {
      "text/latex": [
       "$\\displaystyle \\frac{d}{d\\lambda} \\log L(\\lambda) = -n + \\frac{\\sum Y_i}{\\lambda}$"
      ],
      "text/plain": [
       "<IPython.core.display.Math object>"
      ]
     },
     "metadata": {},
     "output_type": "display_data"
    },
    {
     "data": {
      "text/latex": [
       "$\\displaystyle \\textbf{Step 3: Set the derivative equal to zero and solve for } \\lambda$"
      ],
      "text/plain": [
       "<IPython.core.display.Math object>"
      ]
     },
     "metadata": {},
     "output_type": "display_data"
    },
    {
     "data": {
      "text/latex": [
       "$\\displaystyle 0 = -n + \\frac{\\sum Y_i}{\\lambda} \\Rightarrow \\hat{\\lambda}_{\\text{MLE}} = \\frac{\\sum Y_i}{n} = \\bar{Y}$"
      ],
      "text/plain": [
       "<IPython.core.display.Math object>"
      ]
     },
     "metadata": {},
     "output_type": "display_data"
    },
    {
     "data": {
      "text/latex": [
       "$\\displaystyle \\boxed{\\hat{\\lambda}_{\\text{MLE}} = \\frac{sum_{y}}{n}}$"
      ],
      "text/plain": [
       "<IPython.core.display.Math object>"
      ]
     },
     "metadata": {},
     "output_type": "display_data"
    }
   ],
   "source": [
    "import sympy as sp\n",
    "from IPython.display import display, Math\n",
    "\n",
    "# 定義符號變數\n",
    "lmbda, n, sum_y = sp.symbols('lambda n sum_y', positive=True)\n",
    "\n",
    "# 定義 log-likelihood 函數（忽略常數項）\n",
    "log_likelihood = -n * lmbda + sum_y * sp.log(lmbda)\n",
    "\n",
    "# 微分\n",
    "d_log_likelihood = sp.diff(log_likelihood, lmbda)\n",
    "\n",
    "# 解方程：令導數為 0，解出 lambda\n",
    "solution = sp.solve(d_log_likelihood, lmbda)[0]\n",
    "\n",
    "# 用 Latex 格式輸出步驟\n",
    "display(Math(r\"\\textbf{Step 1: Define the log-likelihood function}\"))\n",
    "display(Math(r\"\\log L(\\lambda) = -n\\lambda + \\left(\\sum Y_i\\right)\\log \\lambda\"))\n",
    "\n",
    "display(Math(r\"\\textbf{Step 2: Take the first derivative}\"))\n",
    "display(Math(r\"\\frac{d}{d\\lambda} \\log L(\\lambda) = -n + \\frac{\\sum Y_i}{\\lambda}\"))\n",
    "\n",
    "display(Math(r\"\\textbf{Step 3: Set the derivative equal to zero and solve for } \\lambda\"))\n",
    "display(Math(r\"0 = -n + \\frac{\\sum Y_i}{\\lambda} \\Rightarrow \\hat{\\lambda}_{\\text{MLE}} = \\frac{\\sum Y_i}{n} = \\bar{Y}\"))\n",
    "\n",
    "# 顯示解\n",
    "display(Math(r\"\\boxed{\\hat{\\lambda}_{\\text{MLE}} = \" + sp.latex(solution) + r\"}\"))"
   ]
  },
  {
   "cell_type": "code",
   "execution_count": 27,
   "id": "b0d1431a",
   "metadata": {},
   "outputs": [
    {
     "name": "stderr",
     "output_type": "stream",
     "text": [
      "/tmp/ipykernel_27691/295458998.py:22: SyntaxWarning: invalid escape sequence '\\l'\n",
      "  + f\"-{n}\\\\cdot {lmbda:.3f} + {sum_y}\\\\cdot \\log({lmbda:.3f}) - {sum_log_fact_y:.3f}\"\n"
     ]
    },
    {
     "ename": "TypeError",
     "evalue": "object of type 'Symbol' has no len()",
     "output_type": "error",
     "traceback": [
      "\u001b[0;31m---------------------------------------------------------------------------\u001b[0m",
      "\u001b[0;31mTypeError\u001b[0m                                 Traceback (most recent call last)",
      "Cell \u001b[0;32mIn[27], line 8\u001b[0m\n\u001b[1;32m      5\u001b[0m     \u001b[38;5;28;01mreturn\u001b[39;00m \u001b[38;5;241m-\u001b[39mpoisson_loglikelihood(lmbda[\u001b[38;5;241m0\u001b[39m], Y)\n\u001b[1;32m      7\u001b[0m \u001b[38;5;66;03m# 使用 minimize 找最小值（即最大 log-likelihood）\u001b[39;00m\n\u001b[0;32m----> 8\u001b[0m result \u001b[38;5;241m=\u001b[39m \u001b[43mminimize\u001b[49m\u001b[43m(\u001b[49m\u001b[43mneg_loglikelihood\u001b[49m\u001b[43m,\u001b[49m\u001b[43m \u001b[49m\u001b[43mx0\u001b[49m\u001b[38;5;241;43m=\u001b[39;49m\u001b[43m[\u001b[49m\u001b[38;5;241;43m1.0\u001b[39;49m\u001b[43m]\u001b[49m\u001b[43m,\u001b[49m\u001b[43m \u001b[49m\u001b[43mbounds\u001b[49m\u001b[38;5;241;43m=\u001b[39;49m\u001b[43m[\u001b[49m\u001b[43m(\u001b[49m\u001b[38;5;241;43m1e-6\u001b[39;49m\u001b[43m,\u001b[49m\u001b[43m \u001b[49m\u001b[38;5;28;43;01mNone\u001b[39;49;00m\u001b[43m)\u001b[49m\u001b[43m]\u001b[49m\u001b[43m)\u001b[49m\n\u001b[1;32m      9\u001b[0m lambda_mle \u001b[38;5;241m=\u001b[39m result\u001b[38;5;241m.\u001b[39mx[\u001b[38;5;241m0\u001b[39m]\n",
      "File \u001b[0;32m/opt/conda/lib/python3.12/site-packages/scipy/optimize/_minimize.py:713\u001b[0m, in \u001b[0;36mminimize\u001b[0;34m(fun, x0, args, method, jac, hess, hessp, bounds, constraints, tol, callback, options)\u001b[0m\n\u001b[1;32m    710\u001b[0m     res \u001b[38;5;241m=\u001b[39m _minimize_newtoncg(fun, x0, args, jac, hess, hessp, callback,\n\u001b[1;32m    711\u001b[0m                              \u001b[38;5;241m*\u001b[39m\u001b[38;5;241m*\u001b[39moptions)\n\u001b[1;32m    712\u001b[0m \u001b[38;5;28;01melif\u001b[39;00m meth \u001b[38;5;241m==\u001b[39m \u001b[38;5;124m'\u001b[39m\u001b[38;5;124ml-bfgs-b\u001b[39m\u001b[38;5;124m'\u001b[39m:\n\u001b[0;32m--> 713\u001b[0m     res \u001b[38;5;241m=\u001b[39m \u001b[43m_minimize_lbfgsb\u001b[49m\u001b[43m(\u001b[49m\u001b[43mfun\u001b[49m\u001b[43m,\u001b[49m\u001b[43m \u001b[49m\u001b[43mx0\u001b[49m\u001b[43m,\u001b[49m\u001b[43m \u001b[49m\u001b[43margs\u001b[49m\u001b[43m,\u001b[49m\u001b[43m \u001b[49m\u001b[43mjac\u001b[49m\u001b[43m,\u001b[49m\u001b[43m \u001b[49m\u001b[43mbounds\u001b[49m\u001b[43m,\u001b[49m\n\u001b[1;32m    714\u001b[0m \u001b[43m                           \u001b[49m\u001b[43mcallback\u001b[49m\u001b[38;5;241;43m=\u001b[39;49m\u001b[43mcallback\u001b[49m\u001b[43m,\u001b[49m\u001b[43m \u001b[49m\u001b[38;5;241;43m*\u001b[39;49m\u001b[38;5;241;43m*\u001b[39;49m\u001b[43moptions\u001b[49m\u001b[43m)\u001b[49m\n\u001b[1;32m    715\u001b[0m \u001b[38;5;28;01melif\u001b[39;00m meth \u001b[38;5;241m==\u001b[39m \u001b[38;5;124m'\u001b[39m\u001b[38;5;124mtnc\u001b[39m\u001b[38;5;124m'\u001b[39m:\n\u001b[1;32m    716\u001b[0m     res \u001b[38;5;241m=\u001b[39m _minimize_tnc(fun, x0, args, jac, bounds, callback\u001b[38;5;241m=\u001b[39mcallback,\n\u001b[1;32m    717\u001b[0m                         \u001b[38;5;241m*\u001b[39m\u001b[38;5;241m*\u001b[39moptions)\n",
      "File \u001b[0;32m/opt/conda/lib/python3.12/site-packages/scipy/optimize/_lbfgsb_py.py:309\u001b[0m, in \u001b[0;36m_minimize_lbfgsb\u001b[0;34m(fun, x0, args, jac, bounds, disp, maxcor, ftol, gtol, eps, maxfun, maxiter, iprint, callback, maxls, finite_diff_rel_step, **unknown_options)\u001b[0m\n\u001b[1;32m    306\u001b[0m         iprint \u001b[38;5;241m=\u001b[39m disp\n\u001b[1;32m    308\u001b[0m \u001b[38;5;66;03m# _prepare_scalar_function can use bounds=None to represent no bounds\u001b[39;00m\n\u001b[0;32m--> 309\u001b[0m sf \u001b[38;5;241m=\u001b[39m \u001b[43m_prepare_scalar_function\u001b[49m\u001b[43m(\u001b[49m\u001b[43mfun\u001b[49m\u001b[43m,\u001b[49m\u001b[43m \u001b[49m\u001b[43mx0\u001b[49m\u001b[43m,\u001b[49m\u001b[43m \u001b[49m\u001b[43mjac\u001b[49m\u001b[38;5;241;43m=\u001b[39;49m\u001b[43mjac\u001b[49m\u001b[43m,\u001b[49m\u001b[43m \u001b[49m\u001b[43margs\u001b[49m\u001b[38;5;241;43m=\u001b[39;49m\u001b[43margs\u001b[49m\u001b[43m,\u001b[49m\u001b[43m \u001b[49m\u001b[43mepsilon\u001b[49m\u001b[38;5;241;43m=\u001b[39;49m\u001b[43meps\u001b[49m\u001b[43m,\u001b[49m\n\u001b[1;32m    310\u001b[0m \u001b[43m                              \u001b[49m\u001b[43mbounds\u001b[49m\u001b[38;5;241;43m=\u001b[39;49m\u001b[43mbounds\u001b[49m\u001b[43m,\u001b[49m\n\u001b[1;32m    311\u001b[0m \u001b[43m                              \u001b[49m\u001b[43mfinite_diff_rel_step\u001b[49m\u001b[38;5;241;43m=\u001b[39;49m\u001b[43mfinite_diff_rel_step\u001b[49m\u001b[43m)\u001b[49m\n\u001b[1;32m    313\u001b[0m func_and_grad \u001b[38;5;241m=\u001b[39m sf\u001b[38;5;241m.\u001b[39mfun_and_grad\n\u001b[1;32m    315\u001b[0m fortran_int \u001b[38;5;241m=\u001b[39m _lbfgsb\u001b[38;5;241m.\u001b[39mtypes\u001b[38;5;241m.\u001b[39mintvar\u001b[38;5;241m.\u001b[39mdtype\n",
      "File \u001b[0;32m/opt/conda/lib/python3.12/site-packages/scipy/optimize/_optimize.py:402\u001b[0m, in \u001b[0;36m_prepare_scalar_function\u001b[0;34m(fun, x0, jac, args, bounds, epsilon, finite_diff_rel_step, hess)\u001b[0m\n\u001b[1;32m    398\u001b[0m     bounds \u001b[38;5;241m=\u001b[39m (\u001b[38;5;241m-\u001b[39mnp\u001b[38;5;241m.\u001b[39minf, np\u001b[38;5;241m.\u001b[39minf)\n\u001b[1;32m    400\u001b[0m \u001b[38;5;66;03m# ScalarFunction caches. Reuse of fun(x) during grad\u001b[39;00m\n\u001b[1;32m    401\u001b[0m \u001b[38;5;66;03m# calculation reduces overall function evaluations.\u001b[39;00m\n\u001b[0;32m--> 402\u001b[0m sf \u001b[38;5;241m=\u001b[39m \u001b[43mScalarFunction\u001b[49m\u001b[43m(\u001b[49m\u001b[43mfun\u001b[49m\u001b[43m,\u001b[49m\u001b[43m \u001b[49m\u001b[43mx0\u001b[49m\u001b[43m,\u001b[49m\u001b[43m \u001b[49m\u001b[43margs\u001b[49m\u001b[43m,\u001b[49m\u001b[43m \u001b[49m\u001b[43mgrad\u001b[49m\u001b[43m,\u001b[49m\u001b[43m \u001b[49m\u001b[43mhess\u001b[49m\u001b[43m,\u001b[49m\n\u001b[1;32m    403\u001b[0m \u001b[43m                    \u001b[49m\u001b[43mfinite_diff_rel_step\u001b[49m\u001b[43m,\u001b[49m\u001b[43m \u001b[49m\u001b[43mbounds\u001b[49m\u001b[43m,\u001b[49m\u001b[43m \u001b[49m\u001b[43mepsilon\u001b[49m\u001b[38;5;241;43m=\u001b[39;49m\u001b[43mepsilon\u001b[49m\u001b[43m)\u001b[49m\n\u001b[1;32m    405\u001b[0m \u001b[38;5;28;01mreturn\u001b[39;00m sf\n",
      "File \u001b[0;32m/opt/conda/lib/python3.12/site-packages/scipy/optimize/_differentiable_functions.py:166\u001b[0m, in \u001b[0;36mScalarFunction.__init__\u001b[0;34m(self, fun, x0, args, grad, hess, finite_diff_rel_step, finite_diff_bounds, epsilon)\u001b[0m\n\u001b[1;32m    163\u001b[0m     \u001b[38;5;28mself\u001b[39m\u001b[38;5;241m.\u001b[39mf \u001b[38;5;241m=\u001b[39m fun_wrapped(\u001b[38;5;28mself\u001b[39m\u001b[38;5;241m.\u001b[39mx)\n\u001b[1;32m    165\u001b[0m \u001b[38;5;28mself\u001b[39m\u001b[38;5;241m.\u001b[39m_update_fun_impl \u001b[38;5;241m=\u001b[39m update_fun\n\u001b[0;32m--> 166\u001b[0m \u001b[38;5;28;43mself\u001b[39;49m\u001b[38;5;241;43m.\u001b[39;49m\u001b[43m_update_fun\u001b[49m\u001b[43m(\u001b[49m\u001b[43m)\u001b[49m\n\u001b[1;32m    168\u001b[0m \u001b[38;5;66;03m# Gradient evaluation\u001b[39;00m\n\u001b[1;32m    169\u001b[0m \u001b[38;5;28;01mif\u001b[39;00m \u001b[38;5;28mcallable\u001b[39m(grad):\n",
      "File \u001b[0;32m/opt/conda/lib/python3.12/site-packages/scipy/optimize/_differentiable_functions.py:262\u001b[0m, in \u001b[0;36mScalarFunction._update_fun\u001b[0;34m(self)\u001b[0m\n\u001b[1;32m    260\u001b[0m \u001b[38;5;28;01mdef\u001b[39;00m \u001b[38;5;21m_update_fun\u001b[39m(\u001b[38;5;28mself\u001b[39m):\n\u001b[1;32m    261\u001b[0m     \u001b[38;5;28;01mif\u001b[39;00m \u001b[38;5;129;01mnot\u001b[39;00m \u001b[38;5;28mself\u001b[39m\u001b[38;5;241m.\u001b[39mf_updated:\n\u001b[0;32m--> 262\u001b[0m         \u001b[38;5;28;43mself\u001b[39;49m\u001b[38;5;241;43m.\u001b[39;49m\u001b[43m_update_fun_impl\u001b[49m\u001b[43m(\u001b[49m\u001b[43m)\u001b[49m\n\u001b[1;32m    263\u001b[0m         \u001b[38;5;28mself\u001b[39m\u001b[38;5;241m.\u001b[39mf_updated \u001b[38;5;241m=\u001b[39m \u001b[38;5;28;01mTrue\u001b[39;00m\n",
      "File \u001b[0;32m/opt/conda/lib/python3.12/site-packages/scipy/optimize/_differentiable_functions.py:163\u001b[0m, in \u001b[0;36mScalarFunction.__init__.<locals>.update_fun\u001b[0;34m()\u001b[0m\n\u001b[1;32m    162\u001b[0m \u001b[38;5;28;01mdef\u001b[39;00m \u001b[38;5;21mupdate_fun\u001b[39m():\n\u001b[0;32m--> 163\u001b[0m     \u001b[38;5;28mself\u001b[39m\u001b[38;5;241m.\u001b[39mf \u001b[38;5;241m=\u001b[39m \u001b[43mfun_wrapped\u001b[49m\u001b[43m(\u001b[49m\u001b[38;5;28;43mself\u001b[39;49m\u001b[38;5;241;43m.\u001b[39;49m\u001b[43mx\u001b[49m\u001b[43m)\u001b[49m\n",
      "File \u001b[0;32m/opt/conda/lib/python3.12/site-packages/scipy/optimize/_differentiable_functions.py:145\u001b[0m, in \u001b[0;36mScalarFunction.__init__.<locals>.fun_wrapped\u001b[0;34m(x)\u001b[0m\n\u001b[1;32m    141\u001b[0m \u001b[38;5;28mself\u001b[39m\u001b[38;5;241m.\u001b[39mnfev \u001b[38;5;241m+\u001b[39m\u001b[38;5;241m=\u001b[39m \u001b[38;5;241m1\u001b[39m\n\u001b[1;32m    142\u001b[0m \u001b[38;5;66;03m# Send a copy because the user may overwrite it.\u001b[39;00m\n\u001b[1;32m    143\u001b[0m \u001b[38;5;66;03m# Overwriting results in undefined behaviour because\u001b[39;00m\n\u001b[1;32m    144\u001b[0m \u001b[38;5;66;03m# fun(self.x) will change self.x, with the two no longer linked.\u001b[39;00m\n\u001b[0;32m--> 145\u001b[0m fx \u001b[38;5;241m=\u001b[39m \u001b[43mfun\u001b[49m\u001b[43m(\u001b[49m\u001b[43mnp\u001b[49m\u001b[38;5;241;43m.\u001b[39;49m\u001b[43mcopy\u001b[49m\u001b[43m(\u001b[49m\u001b[43mx\u001b[49m\u001b[43m)\u001b[49m\u001b[43m,\u001b[49m\u001b[43m \u001b[49m\u001b[38;5;241;43m*\u001b[39;49m\u001b[43margs\u001b[49m\u001b[43m)\u001b[49m\n\u001b[1;32m    146\u001b[0m \u001b[38;5;66;03m# Make sure the function returns a true scalar\u001b[39;00m\n\u001b[1;32m    147\u001b[0m \u001b[38;5;28;01mif\u001b[39;00m \u001b[38;5;129;01mnot\u001b[39;00m np\u001b[38;5;241m.\u001b[39misscalar(fx):\n",
      "Cell \u001b[0;32mIn[27], line 5\u001b[0m, in \u001b[0;36mneg_loglikelihood\u001b[0;34m(lmbda)\u001b[0m\n\u001b[1;32m      4\u001b[0m \u001b[38;5;28;01mdef\u001b[39;00m \u001b[38;5;21mneg_loglikelihood\u001b[39m(lmbda):\n\u001b[0;32m----> 5\u001b[0m     \u001b[38;5;28;01mreturn\u001b[39;00m \u001b[38;5;241m-\u001b[39m\u001b[43mpoisson_loglikelihood\u001b[49m\u001b[43m(\u001b[49m\u001b[43mlmbda\u001b[49m\u001b[43m[\u001b[49m\u001b[38;5;241;43m0\u001b[39;49m\u001b[43m]\u001b[49m\u001b[43m,\u001b[49m\u001b[43m \u001b[49m\u001b[43mY\u001b[49m\u001b[43m)\u001b[49m\n",
      "Cell \u001b[0;32mIn[25], line 7\u001b[0m, in \u001b[0;36mpoisson_loglikelihood\u001b[0;34m(lmbda, Y)\u001b[0m\n\u001b[1;32m      5\u001b[0m \u001b[38;5;28;01mif\u001b[39;00m lmbda \u001b[38;5;241m<\u001b[39m\u001b[38;5;241m=\u001b[39m \u001b[38;5;241m0\u001b[39m:\n\u001b[1;32m      6\u001b[0m     \u001b[38;5;28;01mreturn\u001b[39;00m \u001b[38;5;241m-\u001b[39mnp\u001b[38;5;241m.\u001b[39minf\n\u001b[0;32m----> 7\u001b[0m n \u001b[38;5;241m=\u001b[39m \u001b[38;5;28;43mlen\u001b[39;49m\u001b[43m(\u001b[49m\u001b[43mY\u001b[49m\u001b[43m)\u001b[49m\n\u001b[1;32m      8\u001b[0m \u001b[38;5;28;01mreturn\u001b[39;00m \u001b[38;5;241m-\u001b[39mn \u001b[38;5;241m*\u001b[39m lmbda \u001b[38;5;241m+\u001b[39m np\u001b[38;5;241m.\u001b[39msum(Y \u001b[38;5;241m*\u001b[39m np\u001b[38;5;241m.\u001b[39mlog(lmbda)) \u001b[38;5;241m-\u001b[39m np\u001b[38;5;241m.\u001b[39msum(np\u001b[38;5;241m.\u001b[39mlog(factorial(Y)))\n",
      "\u001b[0;31mTypeError\u001b[0m: object of type 'Symbol' has no len()"
     ]
    }
   ],
   "source": [
    "from scipy.optimize import minimize\n",
    "\n",
    "# 定義負的 log-likelihood 函數\n",
    "def neg_loglikelihood(lmbda):\n",
    "    return -poisson_loglikelihood(lmbda[0], Y)\n",
    "\n",
    "# 使用 minimize 找最小值（即最大 log-likelihood）\n",
    "result = minimize(neg_loglikelihood, x0=[1.0], bounds=[(1e-6, None)])\n",
    "lambda_mle = result.x[0]"
   ]
  },
  {
   "cell_type": "code",
   "execution_count": null,
   "id": "0507cf32",
   "metadata": {},
   "outputs": [
    {
     "name": "stdout",
     "output_type": "stream",
     "text": [
      "MLE for lambda: 3.684666485763343\n"
     ]
    }
   ],
   "source": [
    "from scipy.optimize import minimize\n",
    "\n",
    "# Define the negative log-likelihood function\n",
    "def neg_log_likelihood(lmbda):\n",
    "    return -np.sum(Y * np.log(lmbda) - lmbda - np.log(factorial(Y)))\n",
    "\n",
    "# Use minimize to find the MLE\n",
    "result = minimize(neg_log_likelihood, x0=[1.0], bounds=[(1e-6, None)])\n",
    "lambda_mle = result.x[0]\n",
    "\n",
    "print(f\"MLE for lambda: {lambda_mle}\")"
   ]
  },
  {
   "cell_type": "code",
   "execution_count": null,
   "id": "4aa45958",
   "metadata": {},
   "outputs": [],
   "source": [
    "import numpy as np\n",
    "\n",
    "def poisson_regression_loglikelihood(beta, Y, X):\n",
    "    \"\"\"\n",
    "    Compute the log-likelihood for a Poisson regression model.\n",
    "\n",
    "    Parameters:\n",
    "    beta (numpy.ndarray): Coefficient vector (shape: p, where p is the number of covariates).\n",
    "    Y (numpy.ndarray): Response variable (shape: n, where n is the number of observations).\n",
    "    X (numpy.ndarray): Covariate matrix (shape: n x p).\n",
    "\n",
    "    Returns:\n",
    "    float: Log-likelihood value.\n",
    "    \"\"\"\n",
    "    # Compute the linear predictor X @ beta\n",
    "    linear_predictor = X @ beta\n",
    "    \n",
    "    # Apply the inverse link function (exp) to get lambda_i\n",
    "    lambda_i = np.exp(linear_predictor)\n",
    "    \n",
    "    # Compute the log-likelihood\n",
    "    log_likelihood = np.sum(Y * np.log(lambda_i) - lambda_i - np.log(np.math.factorial(Y)))\n",
    "    \n",
    "    return log_likelihood"
   ]
  },
  {
   "cell_type": "code",
   "execution_count": null,
   "id": "bdb461bc",
   "metadata": {},
   "outputs": [
    {
     "name": "stdout",
     "output_type": "stream",
     "text": [
      "                  Coefficient  Standard Error\n",
      "Intercept            1.480059             1.0\n",
      "age                 38.016417             1.0\n",
      "age_squared       1033.539585             1.0\n",
      "iscustomer           0.553874             1.0\n",
      "region_Northeast     0.640979             1.0\n",
      "region_Northwest     0.164288             1.0\n",
      "region_South         0.181562             1.0\n",
      "region_Southwest     0.295497             1.0\n"
     ]
    },
    {
     "name": "stderr",
     "output_type": "stream",
     "text": [
      "/tmp/ipykernel_18929/225714958.py:18: RuntimeWarning: overflow encountered in exp\n",
      "  lambda_i = np.exp(linear_predictor)\n",
      "/tmp/ipykernel_18929/225714958.py:19: RuntimeWarning: invalid value encountered in multiply\n",
      "  return -np.sum(Y * np.log(lambda_i) - lambda_i)\n",
      "/tmp/ipykernel_18929/225714958.py:19: RuntimeWarning: invalid value encountered in subtract\n",
      "  return -np.sum(Y * np.log(lambda_i) - lambda_i)\n",
      "/opt/conda/lib/python3.12/site-packages/numpy/core/fromnumeric.py:88: RuntimeWarning: overflow encountered in reduce\n",
      "  return ufunc.reduce(obj, axis, dtype, out, **passkwargs)\n",
      "/tmp/ipykernel_18929/225714958.py:18: RuntimeWarning: overflow encountered in exp\n",
      "  lambda_i = np.exp(linear_predictor)\n",
      "/tmp/ipykernel_18929/225714958.py:19: RuntimeWarning: invalid value encountered in multiply\n",
      "  return -np.sum(Y * np.log(lambda_i) - lambda_i)\n",
      "/tmp/ipykernel_18929/225714958.py:19: RuntimeWarning: invalid value encountered in subtract\n",
      "  return -np.sum(Y * np.log(lambda_i) - lambda_i)\n",
      "/opt/conda/lib/python3.12/site-packages/numpy/core/fromnumeric.py:88: RuntimeWarning: overflow encountered in reduce\n",
      "  return ufunc.reduce(obj, axis, dtype, out, **passkwargs)\n",
      "/tmp/ipykernel_18929/225714958.py:18: RuntimeWarning: overflow encountered in exp\n",
      "  lambda_i = np.exp(linear_predictor)\n",
      "/tmp/ipykernel_18929/225714958.py:19: RuntimeWarning: invalid value encountered in multiply\n",
      "  return -np.sum(Y * np.log(lambda_i) - lambda_i)\n",
      "/tmp/ipykernel_18929/225714958.py:19: RuntimeWarning: invalid value encountered in subtract\n",
      "  return -np.sum(Y * np.log(lambda_i) - lambda_i)\n"
     ]
    }
   ],
   "source": [
    "import numpy as np\n",
    "import pandas as pd\n",
    "from scipy.optimize import minimize\n",
    "from scipy.linalg import inv\n",
    "\n",
    "# Prepare the design matrix X\n",
    "blueprinty['age_squared'] = blueprinty['age'] ** 2\n",
    "X = pd.get_dummies(blueprinty[['age', 'age_squared', 'region', 'iscustomer']], drop_first=True)\n",
    "X.insert(0, 'Intercept', 1)  # Add a column of 1's for the intercept\n",
    "X = X.astype(float).values  # Ensure all values are numeric and convert to numpy array\n",
    "\n",
    "# Response variable\n",
    "Y = blueprinty['patents'].values\n",
    "\n",
    "# Define the negative log-likelihood function for Poisson regression\n",
    "def poisson_neg_loglikelihood(beta, Y, X):\n",
    "    linear_predictor = X @ beta\n",
    "    lambda_i = np.exp(linear_predictor)\n",
    "    return -np.sum(Y * np.log(lambda_i) - lambda_i)\n",
    "\n",
    "# Initial guess for beta\n",
    "initial_beta = np.zeros(X.shape[1])\n",
    "\n",
    "# Optimize to find the MLE\n",
    "result = minimize(poisson_neg_loglikelihood, initial_beta, args=(Y, X), method='BFGS')\n",
    "\n",
    "# Extract the MLE vector and Hessian\n",
    "beta_mle = result.x\n",
    "hessian = result.hess_inv  # Inverse Hessian from BFGS\n",
    "\n",
    "# Compute standard errors\n",
    "standard_errors = np.sqrt(np.diag(hessian))\n",
    "\n",
    "# Create a table of coefficients and standard errors\n",
    "coefficients_table = pd.DataFrame({\n",
    "    'Coefficient': beta_mle,\n",
    "    'Standard Error': standard_errors\n",
    "}, index=['Intercept'] + list(pd.get_dummies(blueprinty[['age', 'age_squared', 'region', 'iscustomer']], drop_first=True).columns))\n",
    "\n",
    "print(coefficients_table)"
   ]
  },
  {
   "cell_type": "code",
   "execution_count": null,
   "id": "6f923c7c",
   "metadata": {},
   "outputs": [
    {
     "data": {
      "application/vnd.microsoft.datawrangler.viewer.v0+json": {
       "columns": [
        {
         "name": "index",
         "rawType": "int64",
         "type": "integer"
        },
        {
         "name": "Variable",
         "rawType": "object",
         "type": "string"
        },
        {
         "name": "Estimate",
         "rawType": "float64",
         "type": "float"
        },
        {
         "name": "Std. Error",
         "rawType": "float64",
         "type": "float"
        }
       ],
       "conversionMethod": "pd.DataFrame",
       "ref": "38f7c2b0-f071-4f05-bf48-aaa950bb6bf5",
       "rows": [
        [
         "0",
         "intercept",
         "1.3446757229908726",
         "0.03718085958677346"
        ],
        [
         "1",
         "age_std",
         "-0.057723221741895106",
         "0.016103871401589184"
        ],
        [
         "2",
         "age_squared_std",
         "-0.15581386209110915",
         "0.02172646495629137"
        ],
        [
         "3",
         "iscustomer",
         "0.20759076907099047",
         "0.048530862075137786"
        ],
        [
         "4",
         "Northeast",
         "0.029170050269054247",
         "0.0633370945548234"
        ],
        [
         "5",
         "Northwest",
         "-0.01757455444169708",
         "0.055880616440187804"
        ],
        [
         "6",
         "South",
         "0.056561278040065555",
         "0.058003664429246295"
        ],
        [
         "7",
         "Southwest",
         "0.050576102533776306",
         "0.04803728344747651"
        ]
       ],
       "shape": {
        "columns": 3,
        "rows": 8
       }
      },
      "text/html": [
       "<div>\n",
       "<style scoped>\n",
       "    .dataframe tbody tr th:only-of-type {\n",
       "        vertical-align: middle;\n",
       "    }\n",
       "\n",
       "    .dataframe tbody tr th {\n",
       "        vertical-align: top;\n",
       "    }\n",
       "\n",
       "    .dataframe thead th {\n",
       "        text-align: right;\n",
       "    }\n",
       "</style>\n",
       "<table border=\"1\" class=\"dataframe\">\n",
       "  <thead>\n",
       "    <tr style=\"text-align: right;\">\n",
       "      <th></th>\n",
       "      <th>Variable</th>\n",
       "      <th>Estimate</th>\n",
       "      <th>Std. Error</th>\n",
       "    </tr>\n",
       "  </thead>\n",
       "  <tbody>\n",
       "    <tr>\n",
       "      <th>0</th>\n",
       "      <td>intercept</td>\n",
       "      <td>1.344676</td>\n",
       "      <td>0.037181</td>\n",
       "    </tr>\n",
       "    <tr>\n",
       "      <th>1</th>\n",
       "      <td>age_std</td>\n",
       "      <td>-0.057723</td>\n",
       "      <td>0.016104</td>\n",
       "    </tr>\n",
       "    <tr>\n",
       "      <th>2</th>\n",
       "      <td>age_squared_std</td>\n",
       "      <td>-0.155814</td>\n",
       "      <td>0.021726</td>\n",
       "    </tr>\n",
       "    <tr>\n",
       "      <th>3</th>\n",
       "      <td>iscustomer</td>\n",
       "      <td>0.207591</td>\n",
       "      <td>0.048531</td>\n",
       "    </tr>\n",
       "    <tr>\n",
       "      <th>4</th>\n",
       "      <td>Northeast</td>\n",
       "      <td>0.029170</td>\n",
       "      <td>0.063337</td>\n",
       "    </tr>\n",
       "    <tr>\n",
       "      <th>5</th>\n",
       "      <td>Northwest</td>\n",
       "      <td>-0.017575</td>\n",
       "      <td>0.055881</td>\n",
       "    </tr>\n",
       "    <tr>\n",
       "      <th>6</th>\n",
       "      <td>South</td>\n",
       "      <td>0.056561</td>\n",
       "      <td>0.058004</td>\n",
       "    </tr>\n",
       "    <tr>\n",
       "      <th>7</th>\n",
       "      <td>Southwest</td>\n",
       "      <td>0.050576</td>\n",
       "      <td>0.048037</td>\n",
       "    </tr>\n",
       "  </tbody>\n",
       "</table>\n",
       "</div>"
      ],
      "text/plain": [
       "          Variable  Estimate  Std. Error\n",
       "0        intercept  1.344676    0.037181\n",
       "1          age_std -0.057723    0.016104\n",
       "2  age_squared_std -0.155814    0.021726\n",
       "3       iscustomer  0.207591    0.048531\n",
       "4        Northeast  0.029170    0.063337\n",
       "5        Northwest -0.017575    0.055881\n",
       "6            South  0.056561    0.058004\n",
       "7        Southwest  0.050576    0.048037"
      ]
     },
     "execution_count": 65,
     "metadata": {},
     "output_type": "execute_result"
    }
   ],
   "source": [
    "blueprinty[\"age_std\"] = (blueprinty[\"age\"] - blueprinty[\"age\"].mean()) / blueprinty[\"age\"].std()\n",
    "blueprinty[\"age_squared_std\"] = blueprinty[\"age_std\"] ** 2\n",
    "\n",
    "# 建立 region dummy 變數（去掉 baseline 類別，例如 Midwest）\n",
    "region_dummies = pd.get_dummies(blueprinty[\"region\"], drop_first=True)\n",
    "\n",
    "# 建立設計矩陣 X（含截距、標準化變數與 dummy）\n",
    "X = pd.concat([\n",
    "    pd.Series(1, index=blueprinty.index, name=\"intercept\"),\n",
    "    blueprinty[[\"age_std\", \"age_squared_std\", \"iscustomer\"]],\n",
    "    region_dummies\n",
    "], axis=1)\n",
    "\n",
    "X_mat = X.astype(float).values  # Ensure all values are numeric and convert to numpy array\n",
    "Y = blueprinty[\"patents\"].values\n",
    "n, k = X_mat.shape\n",
    "\n",
    "# 定義 Poisson log-likelihood 函數（同前）\n",
    "def poisson_regression_loglikelihood(beta, Y, X):\n",
    "    lin_pred = X @ beta\n",
    "    lambda_i = np.exp(lin_pred)\n",
    "    return np.sum(Y * np.log(lambda_i) - lambda_i - np.log(factorial(Y)))\n",
    "\n",
    "# 負的 log-likelihood（for minimization）\n",
    "def neg_log_likelihood(beta):\n",
    "    return -poisson_regression_loglikelihood(beta, Y, X_mat)\n",
    "\n",
    "# 最小化（使用 BFGS 以便取得 Hessian）\n",
    "beta_init = np.zeros(k)\n",
    "result = minimize(neg_log_likelihood, x0=beta_init, method='BFGS')\n",
    "\n",
    "# 取得估計值與標準誤\n",
    "beta_hat = result.x\n",
    "hessian_inv = result.hess_inv  # 近似的逆 Hessian\n",
    "se_beta = np.sqrt(np.diag(hessian_inv))\n",
    "\n",
    "# 建立結果表格\n",
    "mle_table = pd.DataFrame({\n",
    "    \"Variable\": X.columns,\n",
    "    \"Estimate\": beta_hat,\n",
    "    \"Std. Error\": se_beta\n",
    "})\n",
    "mle_table"
   ]
  },
  {
   "cell_type": "code",
   "execution_count": null,
   "id": "242b877a",
   "metadata": {},
   "outputs": [
    {
     "data": {
      "text/html": [
       "<table class=\"simpletable\">\n",
       "<caption>Generalized Linear Model Regression Results</caption>\n",
       "<tr>\n",
       "  <th>Dep. Variable:</th>        <td>patents</td>     <th>  No. Observations:  </th>  <td>  1500</td> \n",
       "</tr>\n",
       "<tr>\n",
       "  <th>Model:</th>                  <td>GLM</td>       <th>  Df Residuals:      </th>  <td>  1492</td> \n",
       "</tr>\n",
       "<tr>\n",
       "  <th>Model Family:</th>         <td>Poisson</td>     <th>  Df Model:          </th>  <td>     7</td> \n",
       "</tr>\n",
       "<tr>\n",
       "  <th>Link Function:</th>          <td>Log</td>       <th>  Scale:             </th> <td>  1.0000</td>\n",
       "</tr>\n",
       "<tr>\n",
       "  <th>Method:</th>                <td>IRLS</td>       <th>  Log-Likelihood:    </th> <td> -3258.1</td>\n",
       "</tr>\n",
       "<tr>\n",
       "  <th>Date:</th>            <td>Fri, 02 May 2025</td> <th>  Deviance:          </th> <td>  2143.3</td>\n",
       "</tr>\n",
       "<tr>\n",
       "  <th>Time:</th>                <td>01:29:04</td>     <th>  Pearson chi2:      </th> <td>2.07e+03</td>\n",
       "</tr>\n",
       "<tr>\n",
       "  <th>No. Iterations:</th>          <td>5</td>        <th>  Pseudo R-squ. (CS):</th>  <td>0.1360</td> \n",
       "</tr>\n",
       "<tr>\n",
       "  <th>Covariance Type:</th>     <td>nonrobust</td>    <th>                     </th>     <td> </td>   \n",
       "</tr>\n",
       "</table>\n",
       "<table class=\"simpletable\">\n",
       "<tr>\n",
       "         <td></td>            <th>coef</th>     <th>std err</th>      <th>z</th>      <th>P>|z|</th>  <th>[0.025</th>    <th>0.975]</th>  \n",
       "</tr>\n",
       "<tr>\n",
       "  <th>const</th>           <td>    1.3447</td> <td>    0.038</td> <td>   35.059</td> <td> 0.000</td> <td>    1.270</td> <td>    1.420</td>\n",
       "</tr>\n",
       "<tr>\n",
       "  <th>age_std</th>         <td>   -0.0577</td> <td>    0.015</td> <td>   -3.843</td> <td> 0.000</td> <td>   -0.087</td> <td>   -0.028</td>\n",
       "</tr>\n",
       "<tr>\n",
       "  <th>age_squared_std</th> <td>   -0.1558</td> <td>    0.014</td> <td>  -11.513</td> <td> 0.000</td> <td>   -0.182</td> <td>   -0.129</td>\n",
       "</tr>\n",
       "<tr>\n",
       "  <th>iscustomer</th>      <td>    0.2076</td> <td>    0.031</td> <td>    6.719</td> <td> 0.000</td> <td>    0.147</td> <td>    0.268</td>\n",
       "</tr>\n",
       "<tr>\n",
       "  <th>Northeast</th>       <td>    0.0292</td> <td>    0.044</td> <td>    0.669</td> <td> 0.504</td> <td>   -0.056</td> <td>    0.115</td>\n",
       "</tr>\n",
       "<tr>\n",
       "  <th>Northwest</th>       <td>   -0.0176</td> <td>    0.054</td> <td>   -0.327</td> <td> 0.744</td> <td>   -0.123</td> <td>    0.088</td>\n",
       "</tr>\n",
       "<tr>\n",
       "  <th>South</th>           <td>    0.0566</td> <td>    0.053</td> <td>    1.074</td> <td> 0.283</td> <td>   -0.047</td> <td>    0.160</td>\n",
       "</tr>\n",
       "<tr>\n",
       "  <th>Southwest</th>       <td>    0.0506</td> <td>    0.047</td> <td>    1.072</td> <td> 0.284</td> <td>   -0.042</td> <td>    0.143</td>\n",
       "</tr>\n",
       "</table>"
      ],
      "text/latex": [
       "\\begin{center}\n",
       "\\begin{tabular}{lclc}\n",
       "\\toprule\n",
       "\\textbf{Dep. Variable:}    &     patents      & \\textbf{  No. Observations:  } &     1500    \\\\\n",
       "\\textbf{Model:}            &       GLM        & \\textbf{  Df Residuals:      } &     1492    \\\\\n",
       "\\textbf{Model Family:}     &     Poisson      & \\textbf{  Df Model:          } &        7    \\\\\n",
       "\\textbf{Link Function:}    &       Log        & \\textbf{  Scale:             } &    1.0000   \\\\\n",
       "\\textbf{Method:}           &       IRLS       & \\textbf{  Log-Likelihood:    } &   -3258.1   \\\\\n",
       "\\textbf{Date:}             & Fri, 02 May 2025 & \\textbf{  Deviance:          } &    2143.3   \\\\\n",
       "\\textbf{Time:}             &     01:29:04     & \\textbf{  Pearson chi2:      } &  2.07e+03   \\\\\n",
       "\\textbf{No. Iterations:}   &        5         & \\textbf{  Pseudo R-squ. (CS):} &   0.1360    \\\\\n",
       "\\textbf{Covariance Type:}  &    nonrobust     & \\textbf{                     } &             \\\\\n",
       "\\bottomrule\n",
       "\\end{tabular}\n",
       "\\begin{tabular}{lcccccc}\n",
       "                           & \\textbf{coef} & \\textbf{std err} & \\textbf{z} & \\textbf{P$> |$z$|$} & \\textbf{[0.025} & \\textbf{0.975]}  \\\\\n",
       "\\midrule\n",
       "\\textbf{const}             &       1.3447  &        0.038     &    35.059  &         0.000        &        1.270    &        1.420     \\\\\n",
       "\\textbf{age\\_std}          &      -0.0577  &        0.015     &    -3.843  &         0.000        &       -0.087    &       -0.028     \\\\\n",
       "\\textbf{age\\_squared\\_std} &      -0.1558  &        0.014     &   -11.513  &         0.000        &       -0.182    &       -0.129     \\\\\n",
       "\\textbf{iscustomer}        &       0.2076  &        0.031     &     6.719  &         0.000        &        0.147    &        0.268     \\\\\n",
       "\\textbf{Northeast}         &       0.0292  &        0.044     &     0.669  &         0.504        &       -0.056    &        0.115     \\\\\n",
       "\\textbf{Northwest}         &      -0.0176  &        0.054     &    -0.327  &         0.744        &       -0.123    &        0.088     \\\\\n",
       "\\textbf{South}             &       0.0566  &        0.053     &     1.074  &         0.283        &       -0.047    &        0.160     \\\\\n",
       "\\textbf{Southwest}         &       0.0506  &        0.047     &     1.072  &         0.284        &       -0.042    &        0.143     \\\\\n",
       "\\bottomrule\n",
       "\\end{tabular}\n",
       "%\\caption{Generalized Linear Model Regression Results}\n",
       "\\end{center}"
      ],
      "text/plain": [
       "<class 'statsmodels.iolib.summary.Summary'>\n",
       "\"\"\"\n",
       "                 Generalized Linear Model Regression Results                  \n",
       "==============================================================================\n",
       "Dep. Variable:                patents   No. Observations:                 1500\n",
       "Model:                            GLM   Df Residuals:                     1492\n",
       "Model Family:                 Poisson   Df Model:                            7\n",
       "Link Function:                    Log   Scale:                          1.0000\n",
       "Method:                          IRLS   Log-Likelihood:                -3258.1\n",
       "Date:                Fri, 02 May 2025   Deviance:                       2143.3\n",
       "Time:                        01:29:04   Pearson chi2:                 2.07e+03\n",
       "No. Iterations:                     5   Pseudo R-squ. (CS):             0.1360\n",
       "Covariance Type:            nonrobust                                         \n",
       "===================================================================================\n",
       "                      coef    std err          z      P>|z|      [0.025      0.975]\n",
       "-----------------------------------------------------------------------------------\n",
       "const               1.3447      0.038     35.059      0.000       1.270       1.420\n",
       "age_std            -0.0577      0.015     -3.843      0.000      -0.087      -0.028\n",
       "age_squared_std    -0.1558      0.014    -11.513      0.000      -0.182      -0.129\n",
       "iscustomer          0.2076      0.031      6.719      0.000       0.147       0.268\n",
       "Northeast           0.0292      0.044      0.669      0.504      -0.056       0.115\n",
       "Northwest          -0.0176      0.054     -0.327      0.744      -0.123       0.088\n",
       "South               0.0566      0.053      1.074      0.283      -0.047       0.160\n",
       "Southwest           0.0506      0.047      1.072      0.284      -0.042       0.143\n",
       "===================================================================================\n",
       "\"\"\""
      ]
     },
     "execution_count": 62,
     "metadata": {},
     "output_type": "execute_result"
    }
   ],
   "source": [
    "import statsmodels.api as sm\n",
    "\n",
    "# 建立新的資料集，將 age 做標準化並建立 age_squared\n",
    "blueprinty[\"age_std\"] = (blueprinty[\"age\"] - blueprinty[\"age\"].mean()) / blueprinty[\"age\"].std()\n",
    "blueprinty[\"age_squared_std\"] = blueprinty[\"age_std\"] ** 2\n",
    "\n",
    "# 建立地區虛擬變數（drop_first 代表設定 baseline）\n",
    "region_dummies = pd.get_dummies(blueprinty[\"region\"], drop_first=True)\n",
    "\n",
    "# 合併設計矩陣\n",
    "X_sm = pd.concat([\n",
    "    blueprinty[[\"age_std\", \"age_squared_std\", \"iscustomer\"]],\n",
    "    region_dummies\n",
    "], axis=1)\n",
    "\n",
    "# 確保所有數據為數值型\n",
    "X_sm = X_sm.astype(float)\n",
    "\n",
    "# 加入截距項\n",
    "X_sm = sm.add_constant(X_sm)\n",
    "\n",
    "# 定義應變數\n",
    "Y = blueprinty[\"patents\"]\n",
    "\n",
    "# 建立 Poisson 回歸模型\n",
    "model = sm.GLM(Y, X_sm, family=sm.families.Poisson())\n",
    "result = model.fit()\n",
    "\n",
    "# 顯示結果摘要\n",
    "result.summary()"
   ]
  },
  {
   "cell_type": "code",
   "execution_count": 32,
   "id": "f9612bd1",
   "metadata": {},
   "outputs": [
    {
     "data": {
      "application/vnd.microsoft.datawrangler.viewer.v0+json": {
       "columns": [
        {
         "name": "index",
         "rawType": "int64",
         "type": "integer"
        },
        {
         "name": "Variable",
         "rawType": "object",
         "type": "string"
        },
        {
         "name": "coef",
         "rawType": "float64",
         "type": "float"
        },
        {
         "name": "std err",
         "rawType": "float64",
         "type": "float"
        },
        {
         "name": "z",
         "rawType": "float64",
         "type": "float"
        },
        {
         "name": "P>|z|",
         "rawType": "float64",
         "type": "float"
        },
        {
         "name": "[0.025",
         "rawType": "float64",
         "type": "float"
        },
        {
         "name": "0.975]",
         "rawType": "float64",
         "type": "float"
        }
       ],
       "conversionMethod": "pd.DataFrame",
       "ref": "26fc51aa-c233-473a-ad68-db26f3ac800b",
       "rows": [
        [
         "0",
         "const",
         "1.344675714819862",
         "0.03835497245163276",
         "35.05870631286608",
         "2.8728902264898324e-269",
         "1.269501350186636",
         "1.4198500794530882"
        ],
        [
         "1",
         "age_std",
         "-0.05772321213861597",
         "0.01501981208394555",
         "-3.8431381042586703",
         "0.00012147106807160409",
         "-0.08716150287770874",
         "-0.028284921399523193"
        ],
        [
         "2",
         "age_squared_std",
         "-0.155813856940432",
         "0.013533453111339518",
         "-11.513237283829465",
         "1.1314961841142866e-30",
         "-0.182338937625119",
         "-0.12928877625574503"
        ],
        [
         "3",
         "iscustomer",
         "0.20759076200400597",
         "0.03089525535941777",
         "6.719179355827085",
         "1.827508537338928e-11",
         "0.14703717420637907",
         "0.2681443498016329"
        ],
        [
         "4",
         "Northeast",
         "0.029170060878732113",
         "0.04362548146492599",
         "0.6686473111404915",
         "0.50372048515208",
         "-0.056334311600742495",
         "0.11467443335820672"
        ],
        [
         "5",
         "Northwest",
         "-0.017574534339005157",
         "0.053780583826923974",
         "-0.32678214121965116",
         "0.7438326677783539",
         "-0.12298254170731346",
         "0.08783347302930314"
        ],
        [
         "6",
         "South",
         "0.05656129620092129",
         "0.052662388924897635",
         "1.0740358984014935",
         "0.28280659241645767",
         "-0.04665508943171909",
         "0.15977768183356167"
        ],
        [
         "7",
         "Southwest",
         "0.05057610737135988",
         "0.04719822742101793",
         "1.0715679408934273",
         "0.28391413934450516",
         "-0.041930718507966064",
         "0.14308293325068583"
        ]
       ],
       "shape": {
        "columns": 7,
        "rows": 8
       }
      },
      "text/html": [
       "<div>\n",
       "<style scoped>\n",
       "    .dataframe tbody tr th:only-of-type {\n",
       "        vertical-align: middle;\n",
       "    }\n",
       "\n",
       "    .dataframe tbody tr th {\n",
       "        vertical-align: top;\n",
       "    }\n",
       "\n",
       "    .dataframe thead th {\n",
       "        text-align: right;\n",
       "    }\n",
       "</style>\n",
       "<table border=\"1\" class=\"dataframe\">\n",
       "  <thead>\n",
       "    <tr style=\"text-align: right;\">\n",
       "      <th></th>\n",
       "      <th>Variable</th>\n",
       "      <th>coef</th>\n",
       "      <th>std err</th>\n",
       "      <th>z</th>\n",
       "      <th>P&gt;|z|</th>\n",
       "      <th>[0.025</th>\n",
       "      <th>0.975]</th>\n",
       "    </tr>\n",
       "  </thead>\n",
       "  <tbody>\n",
       "    <tr>\n",
       "      <th>0</th>\n",
       "      <td>const</td>\n",
       "      <td>1.344676</td>\n",
       "      <td>0.038355</td>\n",
       "      <td>35.058706</td>\n",
       "      <td>2.872890e-269</td>\n",
       "      <td>1.269501</td>\n",
       "      <td>1.419850</td>\n",
       "    </tr>\n",
       "    <tr>\n",
       "      <th>1</th>\n",
       "      <td>age_std</td>\n",
       "      <td>-0.057723</td>\n",
       "      <td>0.015020</td>\n",
       "      <td>-3.843138</td>\n",
       "      <td>1.214711e-04</td>\n",
       "      <td>-0.087162</td>\n",
       "      <td>-0.028285</td>\n",
       "    </tr>\n",
       "    <tr>\n",
       "      <th>2</th>\n",
       "      <td>age_squared_std</td>\n",
       "      <td>-0.155814</td>\n",
       "      <td>0.013533</td>\n",
       "      <td>-11.513237</td>\n",
       "      <td>1.131496e-30</td>\n",
       "      <td>-0.182339</td>\n",
       "      <td>-0.129289</td>\n",
       "    </tr>\n",
       "    <tr>\n",
       "      <th>3</th>\n",
       "      <td>iscustomer</td>\n",
       "      <td>0.207591</td>\n",
       "      <td>0.030895</td>\n",
       "      <td>6.719179</td>\n",
       "      <td>1.827509e-11</td>\n",
       "      <td>0.147037</td>\n",
       "      <td>0.268144</td>\n",
       "    </tr>\n",
       "    <tr>\n",
       "      <th>4</th>\n",
       "      <td>Northeast</td>\n",
       "      <td>0.029170</td>\n",
       "      <td>0.043625</td>\n",
       "      <td>0.668647</td>\n",
       "      <td>5.037205e-01</td>\n",
       "      <td>-0.056334</td>\n",
       "      <td>0.114674</td>\n",
       "    </tr>\n",
       "    <tr>\n",
       "      <th>5</th>\n",
       "      <td>Northwest</td>\n",
       "      <td>-0.017575</td>\n",
       "      <td>0.053781</td>\n",
       "      <td>-0.326782</td>\n",
       "      <td>7.438327e-01</td>\n",
       "      <td>-0.122983</td>\n",
       "      <td>0.087833</td>\n",
       "    </tr>\n",
       "    <tr>\n",
       "      <th>6</th>\n",
       "      <td>South</td>\n",
       "      <td>0.056561</td>\n",
       "      <td>0.052662</td>\n",
       "      <td>1.074036</td>\n",
       "      <td>2.828066e-01</td>\n",
       "      <td>-0.046655</td>\n",
       "      <td>0.159778</td>\n",
       "    </tr>\n",
       "    <tr>\n",
       "      <th>7</th>\n",
       "      <td>Southwest</td>\n",
       "      <td>0.050576</td>\n",
       "      <td>0.047198</td>\n",
       "      <td>1.071568</td>\n",
       "      <td>2.839141e-01</td>\n",
       "      <td>-0.041931</td>\n",
       "      <td>0.143083</td>\n",
       "    </tr>\n",
       "  </tbody>\n",
       "</table>\n",
       "</div>"
      ],
      "text/plain": [
       "          Variable      coef   std err          z          P>|z|    [0.025  \\\n",
       "0            const  1.344676  0.038355  35.058706  2.872890e-269  1.269501   \n",
       "1          age_std -0.057723  0.015020  -3.843138   1.214711e-04 -0.087162   \n",
       "2  age_squared_std -0.155814  0.013533 -11.513237   1.131496e-30 -0.182339   \n",
       "3       iscustomer  0.207591  0.030895   6.719179   1.827509e-11  0.147037   \n",
       "4        Northeast  0.029170  0.043625   0.668647   5.037205e-01 -0.056334   \n",
       "5        Northwest -0.017575  0.053781  -0.326782   7.438327e-01 -0.122983   \n",
       "6            South  0.056561  0.052662   1.074036   2.828066e-01 -0.046655   \n",
       "7        Southwest  0.050576  0.047198   1.071568   2.839141e-01 -0.041931   \n",
       "\n",
       "     0.975]  \n",
       "0  1.419850  \n",
       "1 -0.028285  \n",
       "2 -0.129289  \n",
       "3  0.268144  \n",
       "4  0.114674  \n",
       "5  0.087833  \n",
       "6  0.159778  \n",
       "7  0.143083  "
      ]
     },
     "execution_count": 32,
     "metadata": {},
     "output_type": "execute_result"
    }
   ],
   "source": [
    "import statsmodels.api as sm\n",
    "\n",
    "blueprinty[\"age_std\"] = (blueprinty[\"age\"] - blueprinty[\"age\"].mean()) / blueprinty[\"age\"].std()\n",
    "blueprinty[\"age_squared_std\"] = blueprinty[\"age_std\"] ** 2\n",
    "\n",
    "region_dummies = pd.get_dummies(blueprinty[\"region\"], drop_first=True)\n",
    "\n",
    "X_sm = pd.concat([\n",
    "    blueprinty[[\"age_std\", \"age_squared_std\", \"iscustomer\"]],\n",
    "    region_dummies\n",
    "], axis=1)\n",
    "\n",
    "X_sm = X_sm.astype(float)\n",
    "\n",
    "X_sm = sm.add_constant(X_sm)\n",
    "\n",
    "Y = blueprinty[\"patents\"]\n",
    "\n",
    "model = sm.GLM(Y, X_sm, family=sm.families.Poisson())\n",
    "result = model.fit()\n",
    "# 擷取回歸摘要表格，並只保留與截圖中對應的欄位\n",
    "summary_df = result.summary2().tables[1].reset_index()\n",
    "summary_df = summary_df.rename(columns={\n",
    "    \"index\": \"Variable\",\n",
    "    \"Coef.\": \"coef\",\n",
    "    \"Std.Err.\": \"std err\",\n",
    "    \"P>|z|\": \"P>|z|\",\n",
    "    \"[0.025\": \"[0.025\",\n",
    "    \"0.975]\": \"0.975]\"\n",
    "})\n",
    "\n",
    "summary_df\n"
   ]
  },
  {
   "cell_type": "code",
   "execution_count": null,
   "id": "e5f2bc0d",
   "metadata": {},
   "outputs": [
    {
     "data": {
      "application/vnd.microsoft.datawrangler.viewer.v0+json": {
       "columns": [
        {
         "name": "index",
         "rawType": "int64",
         "type": "integer"
        },
        {
         "name": "Unnamed: 0",
         "rawType": "int64",
         "type": "integer"
        },
        {
         "name": "id",
         "rawType": "int64",
         "type": "integer"
        },
        {
         "name": "days",
         "rawType": "int64",
         "type": "integer"
        },
        {
         "name": "last_scraped",
         "rawType": "object",
         "type": "string"
        },
        {
         "name": "host_since",
         "rawType": "object",
         "type": "string"
        },
        {
         "name": "room_type",
         "rawType": "object",
         "type": "string"
        },
        {
         "name": "bathrooms",
         "rawType": "float64",
         "type": "float"
        },
        {
         "name": "bedrooms",
         "rawType": "float64",
         "type": "float"
        },
        {
         "name": "price",
         "rawType": "int64",
         "type": "integer"
        },
        {
         "name": "number_of_reviews",
         "rawType": "int64",
         "type": "integer"
        },
        {
         "name": "review_scores_cleanliness",
         "rawType": "float64",
         "type": "float"
        },
        {
         "name": "review_scores_location",
         "rawType": "float64",
         "type": "float"
        },
        {
         "name": "review_scores_value",
         "rawType": "float64",
         "type": "float"
        },
        {
         "name": "instant_bookable",
         "rawType": "object",
         "type": "string"
        }
       ],
       "conversionMethod": "pd.DataFrame",
       "ref": "3dcf19d8-547d-49b5-9fd3-860f9b1c5140",
       "rows": [
        [
         "0",
         "1",
         "2515",
         "3130",
         "4/2/2017",
         "9/6/2008",
         "Private room",
         "1.0",
         "1.0",
         "59",
         "150",
         "9.0",
         "9.0",
         "9.0",
         "f"
        ],
        [
         "1",
         "2",
         "2595",
         "3127",
         "4/2/2017",
         "9/9/2008",
         "Entire home/apt",
         "1.0",
         "0.0",
         "230",
         "20",
         "9.0",
         "10.0",
         "9.0",
         "f"
        ],
        [
         "2",
         "3",
         "3647",
         "3050",
         "4/2/2017",
         "11/25/2008",
         "Private room",
         "1.0",
         "1.0",
         "150",
         "0",
         null,
         null,
         null,
         "f"
        ],
        [
         "3",
         "4",
         "3831",
         "3038",
         "4/2/2017",
         "12/7/2008",
         "Entire home/apt",
         "1.0",
         "1.0",
         "89",
         "116",
         "9.0",
         "9.0",
         "9.0",
         "f"
        ],
        [
         "4",
         "5",
         "4611",
         "3012",
         "4/2/2017",
         "1/2/2009",
         "Private room",
         null,
         "1.0",
         "39",
         "93",
         "9.0",
         "8.0",
         "9.0",
         "t"
        ]
       ],
       "shape": {
        "columns": 14,
        "rows": 5
       }
      },
      "text/html": [
       "<div>\n",
       "<style scoped>\n",
       "    .dataframe tbody tr th:only-of-type {\n",
       "        vertical-align: middle;\n",
       "    }\n",
       "\n",
       "    .dataframe tbody tr th {\n",
       "        vertical-align: top;\n",
       "    }\n",
       "\n",
       "    .dataframe thead th {\n",
       "        text-align: right;\n",
       "    }\n",
       "</style>\n",
       "<table border=\"1\" class=\"dataframe\">\n",
       "  <thead>\n",
       "    <tr style=\"text-align: right;\">\n",
       "      <th></th>\n",
       "      <th>Unnamed: 0</th>\n",
       "      <th>id</th>\n",
       "      <th>days</th>\n",
       "      <th>last_scraped</th>\n",
       "      <th>host_since</th>\n",
       "      <th>room_type</th>\n",
       "      <th>bathrooms</th>\n",
       "      <th>bedrooms</th>\n",
       "      <th>price</th>\n",
       "      <th>number_of_reviews</th>\n",
       "      <th>review_scores_cleanliness</th>\n",
       "      <th>review_scores_location</th>\n",
       "      <th>review_scores_value</th>\n",
       "      <th>instant_bookable</th>\n",
       "    </tr>\n",
       "  </thead>\n",
       "  <tbody>\n",
       "    <tr>\n",
       "      <th>0</th>\n",
       "      <td>1</td>\n",
       "      <td>2515</td>\n",
       "      <td>3130</td>\n",
       "      <td>4/2/2017</td>\n",
       "      <td>9/6/2008</td>\n",
       "      <td>Private room</td>\n",
       "      <td>1.0</td>\n",
       "      <td>1.0</td>\n",
       "      <td>59</td>\n",
       "      <td>150</td>\n",
       "      <td>9.0</td>\n",
       "      <td>9.0</td>\n",
       "      <td>9.0</td>\n",
       "      <td>f</td>\n",
       "    </tr>\n",
       "    <tr>\n",
       "      <th>1</th>\n",
       "      <td>2</td>\n",
       "      <td>2595</td>\n",
       "      <td>3127</td>\n",
       "      <td>4/2/2017</td>\n",
       "      <td>9/9/2008</td>\n",
       "      <td>Entire home/apt</td>\n",
       "      <td>1.0</td>\n",
       "      <td>0.0</td>\n",
       "      <td>230</td>\n",
       "      <td>20</td>\n",
       "      <td>9.0</td>\n",
       "      <td>10.0</td>\n",
       "      <td>9.0</td>\n",
       "      <td>f</td>\n",
       "    </tr>\n",
       "    <tr>\n",
       "      <th>2</th>\n",
       "      <td>3</td>\n",
       "      <td>3647</td>\n",
       "      <td>3050</td>\n",
       "      <td>4/2/2017</td>\n",
       "      <td>11/25/2008</td>\n",
       "      <td>Private room</td>\n",
       "      <td>1.0</td>\n",
       "      <td>1.0</td>\n",
       "      <td>150</td>\n",
       "      <td>0</td>\n",
       "      <td>NaN</td>\n",
       "      <td>NaN</td>\n",
       "      <td>NaN</td>\n",
       "      <td>f</td>\n",
       "    </tr>\n",
       "    <tr>\n",
       "      <th>3</th>\n",
       "      <td>4</td>\n",
       "      <td>3831</td>\n",
       "      <td>3038</td>\n",
       "      <td>4/2/2017</td>\n",
       "      <td>12/7/2008</td>\n",
       "      <td>Entire home/apt</td>\n",
       "      <td>1.0</td>\n",
       "      <td>1.0</td>\n",
       "      <td>89</td>\n",
       "      <td>116</td>\n",
       "      <td>9.0</td>\n",
       "      <td>9.0</td>\n",
       "      <td>9.0</td>\n",
       "      <td>f</td>\n",
       "    </tr>\n",
       "    <tr>\n",
       "      <th>4</th>\n",
       "      <td>5</td>\n",
       "      <td>4611</td>\n",
       "      <td>3012</td>\n",
       "      <td>4/2/2017</td>\n",
       "      <td>1/2/2009</td>\n",
       "      <td>Private room</td>\n",
       "      <td>NaN</td>\n",
       "      <td>1.0</td>\n",
       "      <td>39</td>\n",
       "      <td>93</td>\n",
       "      <td>9.0</td>\n",
       "      <td>8.0</td>\n",
       "      <td>9.0</td>\n",
       "      <td>t</td>\n",
       "    </tr>\n",
       "  </tbody>\n",
       "</table>\n",
       "</div>"
      ],
      "text/plain": [
       "   Unnamed: 0    id  days last_scraped  host_since        room_type  \\\n",
       "0           1  2515  3130     4/2/2017    9/6/2008     Private room   \n",
       "1           2  2595  3127     4/2/2017    9/9/2008  Entire home/apt   \n",
       "2           3  3647  3050     4/2/2017  11/25/2008     Private room   \n",
       "3           4  3831  3038     4/2/2017   12/7/2008  Entire home/apt   \n",
       "4           5  4611  3012     4/2/2017    1/2/2009     Private room   \n",
       "\n",
       "   bathrooms  bedrooms  price  number_of_reviews  review_scores_cleanliness  \\\n",
       "0        1.0       1.0     59                150                        9.0   \n",
       "1        1.0       0.0    230                 20                        9.0   \n",
       "2        1.0       1.0    150                  0                        NaN   \n",
       "3        1.0       1.0     89                116                        9.0   \n",
       "4        NaN       1.0     39                 93                        9.0   \n",
       "\n",
       "   review_scores_location  review_scores_value instant_bookable  \n",
       "0                     9.0                  9.0                f  \n",
       "1                    10.0                  9.0                f  \n",
       "2                     NaN                  NaN                f  \n",
       "3                     9.0                  9.0                f  \n",
       "4                     8.0                  9.0                t  "
      ]
     },
     "execution_count": 2,
     "metadata": {},
     "output_type": "execute_result"
    }
   ],
   "source": [
    "import pandas as pd\n",
    "airbnb = pd.read_csv('airbnb.csv')\n",
    "airbnb.head(5)"
   ]
  },
  {
   "cell_type": "markdown",
   "id": "b2b2576b",
   "metadata": {},
   "source": [
    "## Airbnb"
   ]
  },
  {
   "cell_type": "code",
   "execution_count": null,
   "id": "e46b556b",
   "metadata": {},
   "outputs": [
    {
     "data": {
      "image/png": "[encoded data removed]",
      "text/plain": [
       "<Figure size 640x480 with 1 Axes>"
      ]
     },
     "metadata": {},
     "output_type": "display_data"
    },
    {
     "name": "stdout",
     "output_type": "stream",
     "text": [
      "                 Generalized Linear Model Regression Results                  \n",
      "==============================================================================\n",
      "Dep. Variable:      number_of_reviews   No. Observations:                40395\n",
      "Model:                            GLM   Df Residuals:                    40388\n",
      "Model Family:                 Poisson   Df Model:                            6\n",
      "Link Function:                    Log   Scale:                          1.0000\n",
      "Method:                          IRLS   Log-Likelihood:            -7.1425e+05\n",
      "Date:                Fri, 02 May 2025   Deviance:                   1.3053e+06\n",
      "Time:                        02:14:57   Pearson chi2:                 2.13e+06\n",
      "No. Iterations:                     6   Pseudo R-squ. (CS):             0.4279\n",
      "Covariance Type:            nonrobust                                         \n",
      "==========================================================================================\n",
      "                             coef    std err          z      P>|z|      [0.025      0.975]\n",
      "------------------------------------------------------------------------------------------\n",
      "const                      2.8427      0.004    644.234      0.000       2.834       2.851\n",
      "price                     -0.0005   1.23e-05    -37.528      0.000      -0.000      -0.000\n",
      "bedrooms                   0.0994      0.002     49.712      0.000       0.095       0.103\n",
      "bathrooms                 -0.1127      0.004    -29.342      0.000      -0.120      -0.105\n",
      "room_type_Private room    -0.1592      0.003    -55.874      0.000      -0.165      -0.154\n",
      "room_type_Shared room     -0.4149      0.009    -47.914      0.000      -0.432      -0.398\n",
      "instant_bookable_t         0.3613      0.003    125.436      0.000       0.356       0.367\n",
      "==========================================================================================\n"
     ]
    },
    {
     "data": {
      "image/png": "[encoded data removed]",
      "text/plain": [
       "<Figure size 640x480 with 1 Axes>"
      ]
     },
     "metadata": {},
     "output_type": "display_data"
    }
   ],
   "source": [
    "import pandas as pd\n",
    "import numpy as np\n",
    "import seaborn as sns\n",
    "\n",
    "import statsmodels.api as sm\n",
    "import matplotlib.pyplot as plt\n",
    "\n",
    "# Step 1: Exploratory Data Analysis (EDA)\n",
    "# Visualize the distribution of the number of reviews\n",
    "sns.histplot(airbnb['number_of_reviews'], bins=30, kde=False)\n",
    "plt.title('Distribution of Number of Reviews')\n",
    "plt.xlabel('Number of Reviews')\n",
    "plt.ylabel('Frequency')\n",
    "plt.show()\n",
    "\n",
    "# Step 2: Handle Missing Values\n",
    "# Select relevant variables\n",
    "relevant_columns = ['number_of_reviews', 'price', 'room_type', 'bedrooms', 'bathrooms', 'instant_bookable']\n",
    "airbnb_cleaned = airbnb[relevant_columns].dropna()\n",
    "\n",
    "# Convert categorical variables to dummy variables\n",
    "airbnb_cleaned = pd.get_dummies(airbnb_cleaned, columns=['room_type', 'instant_bookable'], drop_first=True)\n",
    "\n",
    "# Step 3: Build a Poisson Regression Model\n",
    "# Define response variable (Y) and predictors (X)\n",
    "Y = airbnb_cleaned['number_of_reviews']\n",
    "X = airbnb_cleaned.drop(columns=['number_of_reviews'])\n",
    "\n",
    "# Ensure all columns in X are numeric\n",
    "X = X.apply(pd.to_numeric, errors='coerce')\n",
    "\n",
    "# Convert boolean columns to integers\n",
    "for col in X.select_dtypes(include=['bool']).columns:\n",
    "\tX[col] = X[col].astype(int)\n",
    "\n",
    "# Drop rows with any NaN values after conversion\n",
    "X = X.dropna()\n",
    "\n",
    "# Check for any remaining non-numeric data\n",
    "if not all(X.dtypes.apply(lambda dtype: np.issubdtype(dtype, np.number))):\n",
    "\traise ValueError(\"Non-numeric data found in predictors. Please check the input data.\")\n",
    "\n",
    "# Add intercept\n",
    "X = sm.add_constant(X)\n",
    "\n",
    "# Fit the Poisson regression model\n",
    "poisson_model = sm.GLM(Y, X, family=sm.families.Poisson())\n",
    "poisson_results = poisson_model.fit()\n",
    "\n",
    "# Step 4: Interpret Model Coefficients\n",
    "# Display model summary\n",
    "print(poisson_results.summary())\n",
    "\n",
    "# Visualize the relationship between price and number of reviews\n",
    "sns.scatterplot(data=airbnb_cleaned, x='price', y='number_of_reviews', alpha=0.5)\n",
    "plt.title('Number of Reviews vs Price')\n",
    "plt.xlabel('Price')\n",
    "plt.ylabel('Number of Reviews')\n",
    "plt.show()"
   ]
  },
  {
   "cell_type": "code",
   "execution_count": null,
   "id": "d538e09c",
   "metadata": {},
   "outputs": [
    {
     "name": "stdout",
     "output_type": "stream",
     "text": [
      "Missing values count for each column:\n"
     ]
    },
    {
     "data": {
      "text/plain": [
       "Unnamed: 0                       0\n",
       "id                               0\n",
       "days                             0\n",
       "last_scraped                     0\n",
       "host_since                      35\n",
       "room_type                        0\n",
       "bathrooms                      160\n",
       "bedrooms                        76\n",
       "price                            0\n",
       "number_of_reviews                0\n",
       "review_scores_cleanliness    10195\n",
       "review_scores_location       10254\n",
       "review_scores_value          10256\n",
       "instant_bookable                 0\n",
       "dtype: int64"
      ]
     },
     "execution_count": 4,
     "metadata": {},
     "output_type": "execute_result"
    }
   ],
   "source": [
    "# Count missing values for each column in the airbnb dataset\n",
    "missing_values = airbnb.isnull().sum()\n",
    "print(\"Missing values count for each column:\")\n",
    "missing_values"
   ]
  },
  {
   "cell_type": "code",
   "execution_count": null,
   "id": "8df7a216",
   "metadata": {},
   "outputs": [
    {
     "name": "stdout",
     "output_type": "stream",
     "text": [
      "                       Column  Missing Values\n",
      "0                  Unnamed: 0               0\n",
      "1                          id               0\n",
      "2                        days               0\n",
      "3                last_scraped               0\n",
      "4                  host_since              35\n",
      "5                   room_type               0\n",
      "6                   bathrooms             160\n",
      "7                    bedrooms              76\n",
      "8                       price               0\n",
      "9           number_of_reviews               0\n",
      "10  review_scores_cleanliness           10195\n",
      "11     review_scores_location           10254\n",
      "12        review_scores_value           10256\n",
      "13           instant_bookable               0\n"
     ]
    }
   ],
   "source": [
    "# Create a DataFrame from the missing_values Series\n",
    "missing_values_df = missing_values.reset_index()\n",
    "missing_values_df.columns = ['Column', 'Missing Values']\n",
    "missing_values_df"
   ]
  },
  {
   "cell_type": "code",
   "execution_count": null,
   "id": "97723806",
   "metadata": {},
   "outputs": [
    {
     "data": {
      "image/png": "[encoded data removed]",
      "text/plain": [
       "<Figure size 1200x500 with 2 Axes>"
      ]
     },
     "metadata": {},
     "output_type": "display_data"
    }
   ],
   "source": [
    "# Step 3: 轉換類別變數為數值（instant_bookable: \"t\"/\"f\" → 1/0）\n",
    "airbnb_cleaned[\"instant_bookable_t\"] = airbnb_cleaned[\"instant_bookable_t\"].astype(int)\n",
    "\n",
    "# Step 4: 描述統計與簡單分布圖示\n",
    "summary_stats = airbnb_cleaned.describe()\n",
    "\n",
    "# 畫出評論數與價格的分佈\n",
    "plt.figure(figsize=(12, 5))\n",
    "\n",
    "plt.subplot(1, 2, 1)\n",
    "sns.histplot(airbnb_cleaned[\"number_of_reviews\"], bins=50, kde=False)\n",
    "plt.title(\"Distribution of Number of Reviews\")\n",
    "plt.xlabel(\"Number of Reviews\")\n",
    "\n",
    "plt.subplot(1, 2, 2)\n",
    "sns.histplot(airbnb_cleaned[\"price\"], bins=50, kde=False)\n",
    "plt.title(\"Distribution of Price\")\n",
    "plt.xlabel(\"Price\")\n",
    "\n",
    "plt.tight_layout()\n",
    "plt.show()"
   ]
  },
  {
   "cell_type": "code",
   "execution_count": null,
   "id": "2291856b",
   "metadata": {},
   "outputs": [
    {
     "data": {
      "application/vnd.microsoft.datawrangler.viewer.v0+json": {
       "columns": [
        {
         "name": "index",
         "rawType": "int64",
         "type": "integer"
        },
        {
         "name": "Variable",
         "rawType": "object",
         "type": "string"
        },
        {
         "name": "coef",
         "rawType": "float64",
         "type": "float"
        },
        {
         "name": "std err",
         "rawType": "float64",
         "type": "float"
        },
        {
         "name": "exp(coef)",
         "rawType": "float64",
         "type": "float"
        },
        {
         "name": "P>|z|",
         "rawType": "float64",
         "type": "float"
        },
        {
         "name": "Significance",
         "rawType": "object",
         "type": "string"
        },
        {
         "name": "[0.025",
         "rawType": "float64",
         "type": "float"
        },
        {
         "name": "0.975]",
         "rawType": "float64",
         "type": "float"
        }
       ],
       "conversionMethod": "pd.DataFrame",
       "ref": "1cc48706-d01a-45c2-a442-18b5f27be95c",
       "rows": [
        [
         "0",
         "const",
         "3.0724815161514853",
         "0.01923465293225715",
         "21.59542563600441",
         "0.0",
         "***",
         "3.0347822891491334",
         "3.1101807431538373"
        ],
        [
         "1",
         "log_price",
         "0.13475595143064947",
         "0.002906055814354925",
         "1.1442574958678882",
         "0.0",
         "***",
         "0.1290601866974506",
         "0.14045171616384836"
        ],
        [
         "2",
         "instant_bookable",
         "0.3407725470410691",
         "0.002891392927491743",
         "1.4060333980322108",
         "0.0",
         "***",
         "0.33510552103803143",
         "0.3464395730441067"
        ],
        [
         "3",
         "review_scores_cleanliness",
         "0.1087847475042093",
         "0.0014962568696576235",
         "1.114922334695235",
         "0.0",
         "***",
         "0.10585213792805971",
         "0.11171735708035889"
        ],
        [
         "4",
         "review_scores_location",
         "-0.09754504830792388",
         "0.0016493755139601633",
         "0.9070614790506011",
         "0.0",
         "***",
         "-0.10077776491226803",
         "-0.09431233170357972"
        ],
        [
         "5",
         "review_scores_value",
         "-0.07971964973797999",
         "0.0018197171417132338",
         "0.9233751785763611",
         "0.0",
         "***",
         "-0.08328622979778809",
         "-0.07615306967817188"
        ],
        [
         "6",
         "bathrooms",
         "-0.15199191794128983",
         "0.003742973258854922",
         "0.8589952231628942",
         "0.0",
         "***",
         "-0.159328010723742",
         "-0.14465582515883765"
        ],
        [
         "7",
         "bedrooms",
         "0.04676916310329884",
         "0.002038165531480426",
         "1.0478800917705102",
         "1.5897969178728814e-116",
         "***",
         "0.04277443206706626",
         "0.05076389413953141"
        ],
        [
         "8",
         "Private room",
         "0.0850313370906356",
         "0.00337581197135717",
         "1.0887511844583673",
         "5.366417339563837e-140",
         "***",
         "0.07841486720819638",
         "0.09164780697307481"
        ],
        [
         "9",
         "Shared room",
         "-0.10671615725605672",
         "0.009101184310530844",
         "0.8987807491818811",
         "9.431532608633622e-32",
         "***",
         "-0.12455415072135818",
         "-0.08887816379075526"
        ]
       ],
       "shape": {
        "columns": 8,
        "rows": 10
       }
      },
      "text/html": [
       "<div>\n",
       "<style scoped>\n",
       "    .dataframe tbody tr th:only-of-type {\n",
       "        vertical-align: middle;\n",
       "    }\n",
       "\n",
       "    .dataframe tbody tr th {\n",
       "        vertical-align: top;\n",
       "    }\n",
       "\n",
       "    .dataframe thead th {\n",
       "        text-align: right;\n",
       "    }\n",
       "</style>\n",
       "<table border=\"1\" class=\"dataframe\">\n",
       "  <thead>\n",
       "    <tr style=\"text-align: right;\">\n",
       "      <th></th>\n",
       "      <th>Variable</th>\n",
       "      <th>coef</th>\n",
       "      <th>std err</th>\n",
       "      <th>exp(coef)</th>\n",
       "      <th>P&gt;|z|</th>\n",
       "      <th>Significance</th>\n",
       "      <th>[0.025</th>\n",
       "      <th>0.975]</th>\n",
       "    </tr>\n",
       "  </thead>\n",
       "  <tbody>\n",
       "    <tr>\n",
       "      <th>0</th>\n",
       "      <td>const</td>\n",
       "      <td>3.072482</td>\n",
       "      <td>0.019235</td>\n",
       "      <td>21.595426</td>\n",
       "      <td>0.000000e+00</td>\n",
       "      <td>***</td>\n",
       "      <td>3.034782</td>\n",
       "      <td>3.110181</td>\n",
       "    </tr>\n",
       "    <tr>\n",
       "      <th>1</th>\n",
       "      <td>log_price</td>\n",
       "      <td>0.134756</td>\n",
       "      <td>0.002906</td>\n",
       "      <td>1.144257</td>\n",
       "      <td>0.000000e+00</td>\n",
       "      <td>***</td>\n",
       "      <td>0.129060</td>\n",
       "      <td>0.140452</td>\n",
       "    </tr>\n",
       "    <tr>\n",
       "      <th>2</th>\n",
       "      <td>instant_bookable</td>\n",
       "      <td>0.340773</td>\n",
       "      <td>0.002891</td>\n",
       "      <td>1.406033</td>\n",
       "      <td>0.000000e+00</td>\n",
       "      <td>***</td>\n",
       "      <td>0.335106</td>\n",
       "      <td>0.346440</td>\n",
       "    </tr>\n",
       "    <tr>\n",
       "      <th>3</th>\n",
       "      <td>review_scores_cleanliness</td>\n",
       "      <td>0.108785</td>\n",
       "      <td>0.001496</td>\n",
       "      <td>1.114922</td>\n",
       "      <td>0.000000e+00</td>\n",
       "      <td>***</td>\n",
       "      <td>0.105852</td>\n",
       "      <td>0.111717</td>\n",
       "    </tr>\n",
       "    <tr>\n",
       "      <th>4</th>\n",
       "      <td>review_scores_location</td>\n",
       "      <td>-0.097545</td>\n",
       "      <td>0.001649</td>\n",
       "      <td>0.907061</td>\n",
       "      <td>0.000000e+00</td>\n",
       "      <td>***</td>\n",
       "      <td>-0.100778</td>\n",
       "      <td>-0.094312</td>\n",
       "    </tr>\n",
       "    <tr>\n",
       "      <th>5</th>\n",
       "      <td>review_scores_value</td>\n",
       "      <td>-0.079720</td>\n",
       "      <td>0.001820</td>\n",
       "      <td>0.923375</td>\n",
       "      <td>0.000000e+00</td>\n",
       "      <td>***</td>\n",
       "      <td>-0.083286</td>\n",
       "      <td>-0.076153</td>\n",
       "    </tr>\n",
       "    <tr>\n",
       "      <th>6</th>\n",
       "      <td>bathrooms</td>\n",
       "      <td>-0.151992</td>\n",
       "      <td>0.003743</td>\n",
       "      <td>0.858995</td>\n",
       "      <td>0.000000e+00</td>\n",
       "      <td>***</td>\n",
       "      <td>-0.159328</td>\n",
       "      <td>-0.144656</td>\n",
       "    </tr>\n",
       "    <tr>\n",
       "      <th>7</th>\n",
       "      <td>bedrooms</td>\n",
       "      <td>0.046769</td>\n",
       "      <td>0.002038</td>\n",
       "      <td>1.047880</td>\n",
       "      <td>1.589797e-116</td>\n",
       "      <td>***</td>\n",
       "      <td>0.042774</td>\n",
       "      <td>0.050764</td>\n",
       "    </tr>\n",
       "    <tr>\n",
       "      <th>8</th>\n",
       "      <td>Private room</td>\n",
       "      <td>0.085031</td>\n",
       "      <td>0.003376</td>\n",
       "      <td>1.088751</td>\n",
       "      <td>5.366417e-140</td>\n",
       "      <td>***</td>\n",
       "      <td>0.078415</td>\n",
       "      <td>0.091648</td>\n",
       "    </tr>\n",
       "    <tr>\n",
       "      <th>9</th>\n",
       "      <td>Shared room</td>\n",
       "      <td>-0.106716</td>\n",
       "      <td>0.009101</td>\n",
       "      <td>0.898781</td>\n",
       "      <td>9.431533e-32</td>\n",
       "      <td>***</td>\n",
       "      <td>-0.124554</td>\n",
       "      <td>-0.088878</td>\n",
       "    </tr>\n",
       "  </tbody>\n",
       "</table>\n",
       "</div>"
      ],
      "text/plain": [
       "                    Variable      coef   std err  exp(coef)          P>|z|  \\\n",
       "0                      const  3.072482  0.019235  21.595426   0.000000e+00   \n",
       "1                  log_price  0.134756  0.002906   1.144257   0.000000e+00   \n",
       "2           instant_bookable  0.340773  0.002891   1.406033   0.000000e+00   \n",
       "3  review_scores_cleanliness  0.108785  0.001496   1.114922   0.000000e+00   \n",
       "4     review_scores_location -0.097545  0.001649   0.907061   0.000000e+00   \n",
       "5        review_scores_value -0.079720  0.001820   0.923375   0.000000e+00   \n",
       "6                  bathrooms -0.151992  0.003743   0.858995   0.000000e+00   \n",
       "7                   bedrooms  0.046769  0.002038   1.047880  1.589797e-116   \n",
       "8               Private room  0.085031  0.003376   1.088751  5.366417e-140   \n",
       "9                Shared room -0.106716  0.009101   0.898781   9.431533e-32   \n",
       "\n",
       "  Significance    [0.025    0.975]  \n",
       "0          ***  3.034782  3.110181  \n",
       "1          ***  0.129060  0.140452  \n",
       "2          ***  0.335106  0.346440  \n",
       "3          ***  0.105852  0.111717  \n",
       "4          *** -0.100778 -0.094312  \n",
       "5          *** -0.083286 -0.076153  \n",
       "6          *** -0.159328 -0.144656  \n",
       "7          ***  0.042774  0.050764  \n",
       "8          ***  0.078415  0.091648  \n",
       "9          *** -0.124554 -0.088878  "
      ]
     },
     "execution_count": 64,
     "metadata": {},
     "output_type": "execute_result"
    }
   ],
   "source": [
    "cols_needed = [\n",
    "    \"price\", \"number_of_reviews\", \"instant_bookable\", \"room_type\",\n",
    "    \"review_scores_cleanliness\", \"review_scores_location\",\n",
    "    \"review_scores_value\", \"bathrooms\", \"bedrooms\"\n",
    "]\n",
    "airbnb_cleaned = airbnb.dropna(subset=cols_needed).copy()\n",
    "\n",
    "airbnb_cleaned[\"log_price\"] = np.log1p(airbnb_cleaned[\"price\"])\n",
    "\n",
    "airbnb_cleaned[\"instant_bookable\"] = airbnb_cleaned[\"instant_bookable\"].fillna(\"f\")\n",
    "airbnb_cleaned[\"instant_bookable\"] = airbnb_cleaned[\"instant_bookable\"].map({\"t\": 1, \"f\": 0}).astype(int)\n",
    "\n",
    "room_dummies = pd.get_dummies(airbnb_cleaned[\"room_type\"], drop_first=True)\n",
    "\n",
    "X = pd.concat([\n",
    "    airbnb_cleaned[[\n",
    "        \"log_price\", \"instant_bookable\",\n",
    "        \"review_scores_cleanliness\", \"review_scores_location\",\n",
    "        \"review_scores_value\", \"bathrooms\", \"bedrooms\"\n",
    "    ]],\n",
    "    room_dummies\n",
    "], axis=1).astype(float)\n",
    "X = sm.add_constant(X)\n",
    "\n",
    "Y = airbnb_cleaned[\"number_of_reviews\"]\n",
    "\n",
    "model = sm.GLM(Y, X, family=sm.families.Poisson())\n",
    "result = model.fit()\n",
    "\n",
    "summary_df = result.summary2().tables[1].reset_index()\n",
    "summary_df.columns = [\"Variable\", \"coef\", \"std err\", \"z\", \"P>|z|\", \"[0.025\", \"0.975]\"]\n",
    "\n",
    "summary_df[\"exp(coef)\"] = np.exp(summary_df[\"coef\"])\n",
    "\n",
    "def significance_stars(p):\n",
    "    if p < 0.001:\n",
    "        return \"***\"\n",
    "    elif p < 0.01:\n",
    "        return \"**\"\n",
    "    elif p < 0.05:\n",
    "        return \"*\"\n",
    "    else:\n",
    "        return \"\"\n",
    "\n",
    "summary_df[\"Significance\"] = summary_df[\"P>|z|\"].apply(significance_stars)\n",
    "\n",
    "final_output_df = summary_df[[\n",
    "    \"Variable\", \"coef\", \"std err\", \"exp(coef)\", \"P>|z|\", \"Significance\", \"[0.025\", \"0.975]\"\n",
    "]]\n",
    "final_output_df"
   ]
  }
 ],
 "metadata": {
  "kernelspec": {
   "display_name": "base",
   "language": "python",
   "name": "python3"
  },
  "language_info": {
   "codemirror_mode": {
    "name": "ipython",
    "version": 3
   },
   "file_extension": ".py",
   "mimetype": "text/x-python",
   "name": "python",
   "nbconvert_exporter": "python",
   "pygments_lexer": "ipython3",
   "version": "3.12.7"
  }
 },
 "nbformat": 4,
 "nbformat_minor": 5
}
