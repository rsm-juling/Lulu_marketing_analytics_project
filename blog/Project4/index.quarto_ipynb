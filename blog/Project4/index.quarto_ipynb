{
  "cells": [
    {
      "cell_type": "markdown",
      "metadata": {},
      "source": [
        "---\n",
        "title: \"Poisson Regression Examples\"\n",
        "author: \"Lulu Ling\"\n",
        "date: today\n",
        "callout-appearance: minimal # this hides the blue \"i\" icon on .callout-notes\n",
        "---\n",
        "\n",
        "\n",
        "## Blueprinty Case Study\n",
        "\n",
        "### Introduction\n",
        "\n",
        "Blueprinty is a small firm that makes software for developing blueprints specifically for submitting patent applications to the US patent office. Their marketing team would like to make the claim that patent applicants using Blueprinty's software are more successful in getting their patent applications approved. Ideal data to study such an effect might include the success rate of patent applications before using Blueprinty's software and after using it. Unfortunately, such data is not available. \n",
        "\n",
        "However, Blueprinty has collected data on 1,500 mature (non-startup) engineering firms. The data include each firm's number of patents awarded over the last 5 years, regional location, age since incorporation, and whether or not the firm uses Blueprinty's software. The marketing team would like to use this data to make the claim that firms using Blueprinty's software are more successful in getting their patent applications approved.\n",
        "\n",
        "\n",
        "### Data"
      ],
      "id": "310fb4b5"
    },
    {
      "cell_type": "code",
      "metadata": {},
      "source": [
        "# | code-fold: true\n",
        "# | code-summary: \"Reading blueprinty's data\"\n",
        "import pandas as pd\n",
        "blueprinty = pd.read_csv('blueprinty.csv')\n",
        "blueprinty.head(5)"
      ],
      "id": "0256f276",
      "execution_count": null,
      "outputs": []
    },
    {
      "cell_type": "markdown",
      "metadata": {},
      "source": [
        "#### Exploring the Relationship Between Blueprinty Usage and Patent Output\n",
        "This section conducts preliminary observations through EDA, with the aim of comparing the differences in patent output between companies using Blueprinty software and non-users. As can be seen from the chart, the proportion of Blueprinty users in the high patent number range is relatively high, and the overall patent performance is also more outstanding. Comparison of the average number of patents further shows that Blueprinty customers perform significantly better than non-customers. These preliminary results suggest that Blueprinty software may have a positive impact on patent applications, providing reasonable motivation and direction for the subsequent establishment of more rigorous statistical models."
      ],
      "id": "cc672afd"
    },
    {
      "cell_type": "code",
      "metadata": {},
      "source": [
        "# | code-fold: true\n",
        "# | code-summary: \"Average number of patents  by customer status\"\n",
        "import matplotlib.pyplot as plt\n",
        "import seaborn as sns\n",
        "import numpy as np\n",
        "plt.figure(figsize=(12, 5))\n",
        "\n",
        "plt.subplot(1, 2, 1)\n",
        "sns.histplot(data=blueprinty, x=\"patents\", hue='iscustomer', kde=False, bins=15, palette=\"Set1\", multiple=\"stack\")\n",
        "plt.title(\"Distribution of Patent Counts by Customer Status\")\n",
        "plt.xlabel(\"Number of Patents\")\n",
        "plt.ylabel(\"Number of Firms\")\n",
        "plt.legend(title=\"Blueprinty Customer\", labels=[\"No\", \"Yes\"])\n",
        "\n",
        "plt.subplot(1, 2, 2)\n",
        "sns.barplot(data=blueprinty, x=\"iscustomer\", y=\"patents\", hue=\"iscustomer\", palette=\"Set1\", estimator=np.mean, dodge=False, legend=False)\n",
        "plt.title(\"Average Number of Patents by Customer Status\")\n",
        "plt.xlabel(\"Blueprinty Customer\")\n",
        "plt.ylabel(\"Average Patent Count\")\n",
        "plt.xticks([0, 1], [\"No\", \"Yes\"])\n",
        "\n",
        "plt.tight_layout()\n",
        "plt.show()"
      ],
      "id": "c6d87306",
      "execution_count": null,
      "outputs": []
    },
    {
      "cell_type": "markdown",
      "metadata": {},
      "source": [
        "- The average number of patents by Blueprinty users is significantly higher than that of non-users. \n",
        "- Suggests that companies using Blueprinty software may be more successful in obtaining patents.\n",
        "\n",
        "Blueprinty customers are not selected at random. It may be important to account for systematic differences in the age and regional location of customers vs non-customers.\n",
        "\n",
        "#### Examining Systematic Differences Between Blueprinty Customers and Non-Customers\n",
        "Next, we will continue to use ED to further confirm whether there are systematic differences in firm characteristics between Blueprinty customers and non-customers, which is crucial for the subsequent establishment of causal inference models (such as regression models)."
      ],
      "id": "93bcbaad"
    },
    {
      "cell_type": "code",
      "metadata": {},
      "source": [
        "# | code-fold: true\n",
        "# | code-summary: \"Average number of patents  by customer status\"\n",
        "plt.figure(figsize=(12, 5))\n",
        "\n",
        "plt.subplot(1, 2, 1)\n",
        "sns.histplot(data=blueprinty, x=\"age\", hue=\"iscustomer\", kde=True, bins=20, palette=\"Set2\", element=\"step\", stat=\"density\", common_norm=False)\n",
        "plt.title(\"Distribution of Firm Age by Customer Status\")\n",
        "plt.xlabel(\"Firm Age (Years)\")\n",
        "plt.ylabel(\"Density\")\n",
        "plt.legend(title=\"Blueprinty Customer\", labels=[\"No\", \"Yes\"])\n",
        "\n",
        "plt.subplot(1, 2, 2)\n",
        "region_counts = pd.crosstab(blueprinty[\"region\"], blueprinty[\"iscustomer\"], normalize=\"index\") * 100\n",
        "region_counts.plot(kind=\"bar\", stacked=True, ax=plt.gca(), colormap=\"Set2\")\n",
        "plt.title(\"Regional Composition by Customer Status\")\n",
        "plt.xlabel(\"Region\")\n",
        "plt.ylabel(\"Percentage (%)\")\n",
        "plt.legend(title=\"Blueprinty Customer\", labels=[\"No\", \"Yes\"])\n",
        "\n",
        "plt.tight_layout()\n",
        "plt.show()"
      ],
      "id": "43144b43",
      "execution_count": null,
      "outputs": []
    },
    {
      "cell_type": "markdown",
      "metadata": {},
      "source": [
        "- Blueprinty users (green) and non-users (purple) have slightly different overall age distributions. \n",
        "- The distribution of non-users is slightly peaked towards younger companies; the distribution of users is slightly flatter and still has some density at higher ages.\n",
        "\n",
        "This further illustrates that the company age may affect whether to become a user and may also be associated with the number of patents, so this variable should be controlled when making causal inferences.\n",
        "\n",
        "### Estimation of Simple Poisson Model\n",
        "\n",
        "Since our outcome variable of interest can only be small integer values per a set unit of time, we can use a Poisson density to model the number of patents awarded to each engineering firm over the last 5 years. We start by estimating a simple Poisson model via Maximum Likelihood.\n",
        "\n",
        "#### Mathematical Derivation of the Poisson Likelihood Function"
      ],
      "id": "6812e081"
    },
    {
      "cell_type": "code",
      "metadata": {},
      "source": [
        "# | code-fold: true\n",
        "# | code-summary: \"Likehood\"\n",
        "from IPython.display import display, Math\n",
        "\n",
        "display(Math(r\"L(\\lambda) = \\prod_{i=1}^n \\frac{e^{-\\lambda} \\lambda^{Y_i}}{Y_i!} = e^{-n\\lambda} \\cdot \\lambda^{\\sum Y_i} \\cdot \\frac{1}{\\prod Y_i!}\"))"
      ],
      "id": "ef0aec5a",
      "execution_count": null,
      "outputs": []
    },
    {
      "cell_type": "code",
      "metadata": {},
      "source": [
        "# | code-fold: true\n",
        "# | code-summary: \"log_Likehood\"\n",
        "from IPython.display import display, Math\n",
        "\n",
        "display(Math(\n",
        "    r\"\\log L(\\lambda) = \\sum_{i=1}^n \\left( Y_i \\log \\lambda - \\lambda - \\log Y_i! \\right)\"\n",
        "))"
      ],
      "id": "7912bc07",
      "execution_count": null,
      "outputs": []
    },
    {
      "cell_type": "markdown",
      "metadata": {},
      "source": [
        "#### Code for poisson_loglikelihood Function"
      ],
      "id": "379c8c81"
    },
    {
      "cell_type": "code",
      "metadata": {},
      "source": [
        "def poisson_loglikelihood(lmbda, Y):\n",
        "    return np.sum(Y * np.log(lmbda) - lmbda - np.log(factorial(Y)))"
      ],
      "id": "cc5a15c6",
      "execution_count": null,
      "outputs": []
    },
    {
      "cell_type": "markdown",
      "metadata": {},
      "source": [
        "#### Visualizing the Poisson Log-Likelihood Curve to Identify the MLE\n",
        "Using the previously defined log-likelihood function, we can visualize the change in log-likelihood for different values ​​of λ (lambda) and find the maximum likelihood estimate (MLE) through a graph."
      ],
      "id": "a4a112b1"
    },
    {
      "cell_type": "code",
      "metadata": {},
      "source": [
        "# | code-fold: true\n",
        "# | code-summary: \"log-likehood v.s. Lanbda(Possion model)\"\n",
        "import numpy as np\n",
        "import pandas as pd\n",
        "import matplotlib.pyplot as plt\n",
        "from scipy.special import factorial\n",
        "Y = blueprinty[\"patents\"].values\n",
        "n = len(Y)\n",
        "\n",
        "def poisson_loglikelihood(lmbda, Y):\n",
        "    if lmbda <= 0:\n",
        "        return -np.inf\n",
        "    return -n * lmbda + np.sum(Y * np.log(lmbda)) - np.sum(np.log(factorial(Y)))\n",
        "lambda_range = np.linspace(0.1, 10, 200)\n",
        "\n",
        "loglikelihood_values = [poisson_loglikelihood(lmbda, Y) for lmbda in lambda_range]\n",
        "\n",
        "plt.figure(figsize=(8, 5))\n",
        "plt.plot(lambda_range, loglikelihood_values, color='darkblue')\n",
        "plt.title(\"Log-Likelihood vs Lambda (Poisson Model)\")\n",
        "plt.xlabel(\"λ (lambda)\")  \n",
        "plt.ylabel(\"Log-Likelihood\")  \n",
        "plt.grid(True)\n",
        "plt.show()"
      ],
      "id": "4a9fd1ca",
      "execution_count": null,
      "outputs": []
    },
    {
      "cell_type": "markdown",
      "metadata": {},
      "source": [
        "- Horizontal axis (λ): a series of candidate λ values ​​we tried\n",
        "- Vertical axis (log-likelihood): log-likelihood value of each λ under actual data (number of patents)\n",
        "The curve has a typical \"peak shape\", which means that there is a certain λ that maximizes the log-likelihood. The location of the peak is the maximum likelihood estimate (MLE).\n",
        "\n",
        "#### Deriving the Maximum Likelihood Estimator for λ in the Poisson Model"
      ],
      "id": "8640a983"
    },
    {
      "cell_type": "code",
      "metadata": {},
      "source": [
        "# | code-fold: true\n",
        "# | code-summary: \"log-likehood v.s. Lanbda(Possion model)\"\n",
        "import sympy as sp\n",
        "from IPython.display import display, Math\n",
        "\n",
        "lmbda, n, sum_y = sp.symbols('lambda n sum_y', positive=True)\n",
        "\n",
        "log_likelihood = -n * lmbda + sum_y * sp.log(lmbda)\n",
        "\n",
        "\n",
        "d_log_likelihood = sp.diff(log_likelihood, lmbda)\n",
        "\n",
        "solution = sp.solve(d_log_likelihood, lmbda)[0]\n",
        "\n",
        "display(Math(r\"\\textbf{Step 1: Define the log-likelihood function}\"))\n",
        "display(Math(r\"\\log L(\\lambda) = -n\\lambda + \\left(\\sum Y_i\\right)\\log \\lambda\"))\n",
        "\n",
        "display(Math(r\"\\textbf{Step 2: Take the first derivative}\"))\n",
        "display(Math(r\"\\frac{d}{d\\lambda} \\log L(\\lambda) = -n + \\frac{\\sum Y_i}{\\lambda}\"))\n",
        "\n",
        "display(Math(r\"\\textbf{Step 3: Set the derivative equal to zero and solve for } \\lambda\"))\n",
        "display(Math(r\"0 = -n + \\frac{\\sum Y_i}{\\lambda} \\Rightarrow \\hat{\\lambda}_{\\text{MLE}} = \\frac{\\sum Y_i}{n} = \\bar{Y}\"))\n",
        "\n",
        "display(Math(r\"\\boxed{\\hat{\\lambda}_{\\text{MLE}} = \" + sp.latex(solution) + r\"}\"))"
      ],
      "id": "e5997b14",
      "execution_count": null,
      "outputs": []
    },
    {
      "cell_type": "markdown",
      "metadata": {},
      "source": [
        "#### Numerical Optimization to Estimate λ via Maximum Likelihood\n",
        "Use numerical optimization methods to find the maximum likelihood estimate (MLE) of λ in the Poisson model."
      ],
      "id": "c67bc523"
    },
    {
      "cell_type": "code",
      "metadata": {},
      "source": [
        "# | code-fold: true\n",
        "# | code-summary: \"Optimization of likehood by MLE\"\n",
        "from scipy.optimize import minimize\n",
        "\n",
        "# Define the negative log-likelihood function\n",
        "def neg_log_likelihood(lmbda):\n",
        "    return -np.sum(Y * np.log(lmbda) - lmbda - np.log(factorial(Y)))\n",
        "\n",
        "# Use minimize to find the MLE\n",
        "result = minimize(neg_log_likelihood, x0=[1.0], bounds=[(1e-6, None)])\n",
        "lambda_mle = result.x[0]\n",
        "\n",
        "mle_df = pd.DataFrame({\n",
        "    \"Parameter\": [\"lambda\"],\n",
        "    \"MLE Estimate\": [lambda_mle]\n",
        "})\n",
        "\n",
        "mle_df"
      ],
      "id": "7df8317f",
      "execution_count": null,
      "outputs": []
    },
    {
      "cell_type": "markdown",
      "metadata": {},
      "source": [
        "### Estimation of Poisson Regression Model\n",
        "\n",
        "Next, we extend our simple Poisson model to a Poisson Regression Model such that $Y_i = \\text{Poisson}(\\lambda_i)$ where $\\lambda_i = \\exp(X_i'\\beta)$. The interpretation is that the success rate of patent awards is not constant across all firms ($\\lambda$) but rather is a function of firm characteristics $X_i$. Specifically, we will use the covariates age, age squared, region, and whether the firm is a customer of Blueprinty.\n",
        "\n",
        "\n",
        "#### Implementing the Log-Likelihood Function for the Poisson Regression Model\n",
        "The original Poisson model likelihood function is expanded into a log-likelihood function of a Poisson regression model, where λ is no longer a fixed parameter but is determined by the explanatory variable X and the parameter vector \\beta"
      ],
      "id": "2c31f380"
    },
    {
      "cell_type": "code",
      "metadata": {},
      "source": [
        "# | code-fold: true\n",
        "# | code-summary: \"Log-Likelihood Function for the Poisson Regression Model\"\n",
        "\n",
        "import numpy as np\n",
        "from IPython.display import display, Math\n",
        "\n",
        "likelihood = r\"L(\\lambda) = \\prod_{i=1}^n \\frac{e^{-\\lambda} \\lambda^{Y_i}}{Y_i!}\"\n",
        "lambda_def = r\"\\lambda_i = \\exp(X_i^\\top \\beta)\"\n",
        "log_likelihood = r\"\\log L(\\beta) = \\sum_{i=1}^n \\left[Y_i \\log(\\lambda_i) - \\lambda_i - \\log(Y_i!)\\right]\"\n",
        "log_likelihood_expanded = r\"\\log L(\\beta) = \\sum_{i=1}^n \\left[Y_i X_i^\\top \\beta - \\exp(X_i^\\top \\beta) - \\log(Y_i!)\\right]\"\n",
        "\n",
        "display(Math(likelihood))\n",
        "display(Math(lambda_def))\n",
        "display(Math(log_likelihood))\n",
        "display(Math(log_likelihood_expanded))"
      ],
      "id": "ab2d688a",
      "execution_count": null,
      "outputs": []
    },
    {
      "cell_type": "code",
      "metadata": {},
      "source": [
        "import numpy as np\n",
        "\n",
        "def poisson_regression_loglikelihood(beta, Y, X):\n",
        "    linear_predictor = X @ beta\n",
        "    \n",
        "    lambda_i = np.exp(linear_predictor)\n",
        "    \n",
        "    log_likelihood = np.sum(Y * np.log(lambda_i) - lambda_i - np.log(np.math.factorial(Y)))\n",
        "    \n",
        "    return log_likelihood"
      ],
      "id": "c36ae5cf",
      "execution_count": null,
      "outputs": []
    },
    {
      "cell_type": "markdown",
      "metadata": {},
      "source": [
        "#### Estimating Poisson Regression Coefficients Using MLE and the Hessian Matrix\n",
        "Perform maximum likelihood estimation (MLE) on the Poisson regression model and use the inverse matrix of the Hessian matrix to calculate the standard errors of the parameters (Standard Errors)"
      ],
      "id": "39945b09"
    },
    {
      "cell_type": "code",
      "metadata": {},
      "source": [
        "# | code-fold: true\n",
        "# | code-summary: \"Poisson Regression Coefficients\"\n",
        "\n",
        "blueprinty[\"age_std\"] = (blueprinty[\"age\"] - blueprinty[\"age\"].mean()) / blueprinty[\"age\"].std()\n",
        "blueprinty[\"age_squared_std\"] = blueprinty[\"age_std\"] ** 2\n",
        "\n",
        "region_dummies = pd.get_dummies(blueprinty[\"region\"], drop_first=True)\n",
        "\n",
        "X = pd.concat([\n",
        "    pd.Series(1, index=blueprinty.index, name=\"intercept\"),\n",
        "    blueprinty[[\"age\", \"age_squared_std\", \"iscustomer\"]],\n",
        "    region_dummies\n",
        "], axis=1)\n",
        "\n",
        "X_mat = X.astype(float).values  \n",
        "Y = blueprinty[\"patents\"].values\n",
        "n, k = X_mat.shape\n",
        "\n",
        "def poisson_regression_loglikelihood(beta, Y, X):\n",
        "    lin_pred = X @ beta\n",
        "    lambda_i = np.exp(lin_pred)\n",
        "    return np.sum(Y * np.log(lambda_i) - lambda_i - np.log(factorial(Y)))\n",
        "\n",
        "def neg_log_likelihood(beta):\n",
        "    return -poisson_regression_loglikelihood(beta, Y, X_mat)\n",
        "\n",
        "beta_init = np.zeros(k)\n",
        "result = minimize(neg_log_likelihood, x0=beta_init, method='BFGS')\n",
        "\n",
        "beta_hat = result.x\n",
        "hessian_inv = result.hess_inv  \n",
        "se_beta = np.sqrt(np.diag(hessian_inv))\n",
        "\n",
        "mle_table = pd.DataFrame({\n",
        "    \"Variable\": X.columns,\n",
        "    \"Estimate\": beta_hat,\n",
        "    \"Std. Error\": se_beta\n",
        "})\n",
        "mle_table"
      ],
      "id": "d2818af8",
      "execution_count": null,
      "outputs": []
    },
    {
      "cell_type": "markdown",
      "metadata": {},
      "source": [
        "#### Estimating the Effect of Blueprinty Usage on Patent Counts via Poisson Regression\n",
        "We use a Poisson regression model (GLM with Poisson family) to quantify and test whether the Blueprinty software usage status (iscustomer) significantly affects the number of patents obtained by the company, while also controlling for other variables that may affect patent performance, such as company age and region."
      ],
      "id": "aed9f0f1"
    },
    {
      "cell_type": "code",
      "metadata": {},
      "source": [
        "# | code-fold: true\n",
        "# | code-summary: \"Poisson Regression Coefficients GLM Function\"\n",
        "import statsmodels.api as sm\n",
        "\n",
        "blueprinty[\"age_std\"] = (blueprinty[\"age\"] - blueprinty[\"age\"].mean()) / blueprinty[\"age\"].std()\n",
        "blueprinty[\"age_squared_std\"] = blueprinty[\"age_std\"] ** 2\n",
        "\n",
        "region_dummies = pd.get_dummies(blueprinty[\"region\"], drop_first=True)\n",
        "\n",
        "X_sm = pd.concat([\n",
        "    blueprinty[[\"age\", \"age_squared_std\", \"iscustomer\"]],\n",
        "    region_dummies\n",
        "], axis=1)\n",
        "\n",
        "X_sm = X_sm.astype(float)\n",
        "\n",
        "X_sm = sm.add_constant(X_sm)\n",
        "\n",
        "Y = blueprinty[\"patents\"]\n",
        "\n",
        "model = sm.GLM(Y, X_sm, family=sm.families.Poisson())\n",
        "result = model.fit()\n",
        "\n",
        "summary_df = result.summary2().tables[1].reset_index()\n",
        "summary_df = summary_df.rename(columns={\n",
        "    \"index\": \"Variable\",\n",
        "    \"Coef.\": \"coef\",\n",
        "    \"Std.Err.\": \"std err\",\n",
        "    \"P>|z|\": \"P>|z|\",\n",
        "    \"[0.025\": \"[0.025\",\n",
        "    \"0.975]\": \"0.975]\"\n",
        "})\n",
        "\n",
        "summary_df"
      ],
      "id": "7ec62435",
      "execution_count": null,
      "outputs": []
    },
    {
      "cell_type": "markdown",
      "metadata": {},
      "source": [
        "#### Interpretation of Results\n",
        "We use a Poisson regression model to analyze the relationship between Blueprinty software usage and the firm’s patent application success. The model controls for firm age (and its square) and regional differences, and uses the number of patents as an explanatory variable to perform maximum likelihood estimation (MLE).\n",
        "\n",
        "The results show:\n",
        "\n",
        "- Companies using Blueprinty have significantly more patents on average than non-users. \n",
        "- The expected number of patents for Blueprinty users is about 1.23 times that of non-users, representing an average improvement of about 23%. \n",
        "- There is an inverted U-shaped relationship between company age and patent performance, i.e., as age increases, the number of patents first increases and then decreases. \n",
        "- The regional variable did not reach statistical significance, indicating that the region where the company is located has no significant impact on patent performance after controlling for other factors.\n",
        "\n",
        "#### Estimating the Causal Effect of Blueprinty Usage on Patent Outcomes via Counterfactual Prediction"
      ],
      "id": "3ebd4be9"
    },
    {
      "cell_type": "code",
      "metadata": {},
      "source": [
        "# | code-fold: true\n",
        "# | code-summary: \"Causal Effect of Blueprinty Usage on Patent Outcomes via Counterfactual Predictionn\"\n",
        "blueprinty[\"iscustomer\"] = blueprinty[\"iscustomer\"].astype(int)\n",
        "\n",
        "blueprinty[\"age_std\"] = (blueprinty[\"age\"] - blueprinty[\"age\"].mean()) / blueprinty[\"age\"].std()\n",
        "blueprinty[\"age_squared_std\"] = blueprinty[\"age_std\"] ** 2\n",
        "region_dummies = pd.get_dummies(blueprinty[\"region\"], drop_first=True)\n",
        "\n",
        "X_sm = pd.concat([\n",
        "    blueprinty[[\"age\", \"age_squared_std\", \"iscustomer\"]],\n",
        "    region_dummies\n",
        "], axis=1).astype(float)\n",
        "X_sm = sm.add_constant(X_sm)\n",
        "Y = blueprinty[\"patents\"]\n",
        "\n",
        "model = sm.GLM(Y, X_sm, family=sm.families.Poisson())\n",
        "result = model.fit()\n",
        "\n",
        "X_counterfactual_0 = X_sm.copy()\n",
        "X_counterfactual_1 = X_sm.copy()\n",
        "X_counterfactual_0[\"iscustomer\"] = 0\n",
        "X_counterfactual_1[\"iscustomer\"] = 1\n",
        "\n",
        "y_pred_0 = result.predict(X_counterfactual_0)\n",
        "y_pred_1 = result.predict(X_counterfactual_1)\n",
        "diff = y_pred_1 - y_pred_0\n",
        "mean = diff.mean()\n",
        "average_effect = pd.DataFrame({\n",
        "    \"Effect Type\": [\"Average Treatment Effect (ATE)\"],\n",
        "    \"Estimated Effect (Δŷ)\": [mean]\n",
        "})\n",
        "average_effect"
      ],
      "id": "8bbe7b9c",
      "execution_count": null,
      "outputs": []
    },
    {
      "cell_type": "markdown",
      "metadata": {},
      "source": [
        "If all companies became Blueprinty customers, each company could expect to receive, on average, approximately 0.79 more patents. This means that using Blueprinty's software has a substantial, positive effect on patent application success, based on the Poisson model you built, after controlling for firm age and region. This estimate is calculated using a counterfactual simulation method, which converts log(λ) into actual predicted differences and is highly interpretable.\n",
        "\n",
        "\n",
        "## AirBnB Case Study\n",
        "\n",
        "### Introduction\n",
        "\n",
        "AirBnB is a popular platform for booking short-term rentals. In March 2017, students Annika Awad, Evan Lebo, and Anna Linden scraped of 40,000 Airbnb listings from New York City.  The data include the following variables:\n",
        "\n",
        ":::: {.callout-note collapse=\"true\"}\n",
        "### Variable Definitions\n",
        "\n",
        "    - `id` = unique ID number for each unit\n",
        "    - `last_scraped` = date when information scraped\n",
        "    - `host_since` = date when host first listed the unit on Airbnb\n",
        "    - `days` = `last_scraped` - `host_since` = number of days the unit has been listed\n",
        "    - `room_type` = Entire home/apt., Private room, or Shared room\n",
        "    - `bathrooms` = number of bathrooms\n",
        "    - `bedrooms` = number of bedrooms\n",
        "    - `price` = price per night (dollars)\n",
        "    - `number_of_reviews` = number of reviews for the unit on Airbnb\n",
        "    - `review_scores_cleanliness` = a cleanliness score from reviews (1-10)\n",
        "    - `review_scores_location` = a \"quality of location\" score from reviews (1-10)\n",
        "    - `review_scores_value` = a \"quality of value\" score from reviews (1-10)\n",
        "    - `instant_bookable` = \"t\" if instantly bookable, \"f\" if not\n",
        "\n",
        "::::"
      ],
      "id": "d9631670"
    },
    {
      "cell_type": "code",
      "metadata": {},
      "source": [
        "# | code-fold: true\n",
        "# | code-summary: \"Reading airbnb's dataset\"\n",
        "import pandas as pd\n",
        "airbnb = pd.read_csv('airbnb.csv')\n",
        "airbnb.head(5)"
      ],
      "id": "143c797f",
      "execution_count": null,
      "outputs": []
    },
    {
      "cell_type": "markdown",
      "metadata": {},
      "source": [
        "### EDA\n",
        "\n",
        "#### Missing Value Check and Handling"
      ],
      "id": "916361f0"
    },
    {
      "cell_type": "code",
      "metadata": {},
      "source": [
        "# | code-fold: true\n",
        "# | code-summary: \"Missing Value\"\n",
        "# Create a DataFrame from the missing_values Series\n",
        "missing_values = airbnb.isnull().sum()\n",
        "missing_values_df = missing_values.reset_index()\n",
        "missing_values_df.columns = ['Column', 'Missing Values']\n",
        "relevant_columns = ['number_of_reviews', 'price', 'room_type', 'bedrooms', 'bathrooms', 'instant_bookable']\n",
        "airbnb_cleaned = airbnb[relevant_columns].dropna()\n",
        "missing_values_df"
      ],
      "id": "7c43c482",
      "execution_count": null,
      "outputs": []
    },
    {
      "cell_type": "markdown",
      "metadata": {},
      "source": [
        "We have removed all observation columns with missing values ​​to ensure the accuracy of the model.\n",
        "\n",
        "#### Variable Distribution\n",
        "\n",
        "1. Review Volume and Price Distribution"
      ],
      "id": "2f867569"
    },
    {
      "cell_type": "code",
      "metadata": {},
      "source": [
        "# | code-fold: true\n",
        "# | code-summary: \"Distribution plot\"\n",
        "import pandas as pd\n",
        "import numpy as np\n",
        "import seaborn as sns\n",
        "import statsmodels.api as sm\n",
        "import matplotlib.pyplot as plt\n",
        "\n",
        "summary_stats = airbnb.describe()\n",
        "\n",
        "plt.figure(figsize=(12, 5))\n",
        "\n",
        "plt.subplot(1, 2, 1)\n",
        "sns.histplot(airbnb[\"number_of_reviews\"], bins=50, kde=False)\n",
        "plt.title(\"Distribution of Number of Reviews\")\n",
        "plt.xlabel(\"Number of Reviews\")\n",
        "\n",
        "plt.subplot(1, 2, 2)\n",
        "sns.histplot(airbnb[\"price\"], bins=50, kde=False)\n",
        "plt.title(\"Distribution of Price\")\n",
        "plt.xlabel(\"Price\")\n",
        "\n",
        "plt.tight_layout()\n",
        "plt.show()"
      ],
      "id": "5b1f736c",
      "execution_count": null,
      "outputs": []
    },
    {
      "cell_type": "markdown",
      "metadata": {},
      "source": [
        "- Number of reviews (number_of_reviews): skewed distribution, most listings have low numbers of reviews, but some have abnormally high values ​​(common for popular listings)\n",
        "- Price: right-skewed distribution, some properties are very expensive, need to consider conversion (such as log) in subsequent modeling\n",
        "\n",
        "2. Log Transformations Distribution"
      ],
      "id": "59b43aa9"
    },
    {
      "cell_type": "code",
      "metadata": {},
      "source": [
        "# | code-fold: true\n",
        "# | code-summary: \"Distribution plot of price log\"\n",
        "airbnb[\"log_price\"] = np.log1p(airbnb[\"price\"])\n",
        "airbnb[\"log_reviews\"] = np.log1p(airbnb[\"number_of_reviews\"])\n",
        "\n",
        "plt.figure(figsize=(12, 5))\n",
        "plt.subplot(1, 2, 1)\n",
        "sns.histplot(airbnb[\"log_reviews\"], bins=50)\n",
        "plt.title(\"Log(Number of Reviews + 1) Distribution\")\n",
        "\n",
        "plt.subplot(1, 2, 2)\n",
        "sns.histplot(airbnb[\"log_price\"], bins=50)\n",
        "plt.title(\"Log(Price + 1) Distribution\")\n",
        "plt.tight_layout()\n",
        "plt.show()"
      ],
      "id": "767aef9b",
      "execution_count": null,
      "outputs": []
    },
    {
      "cell_type": "markdown",
      "metadata": {},
      "source": [
        "After log(price + 1) and log(number_of_reviews + 1) transformation, the distribution obviously tends to be normal, which is conducive to subsequent modeling.\n",
        "\n",
        "####  Categorical Variable Distributions"
      ],
      "id": "afc40baf"
    },
    {
      "cell_type": "code",
      "metadata": {},
      "source": [
        "# | code-fold: true\n",
        "# | code-summary: \"Distribution plot of price log\"\n",
        "plt.figure(figsize=(12, 5))\n",
        "plt.subplot(1, 2, 1)\n",
        "sns.countplot(data=airbnb, x=\"room_type\")\n",
        "plt.title(\"Room Type Distribution\")\n",
        "\n",
        "plt.subplot(1, 2, 2)\n",
        "sns.countplot(data=airbnb, x=\"instant_bookable\")\n",
        "plt.title(\"Instant Bookable Distribution\")\n",
        "plt.tight_layout()\n",
        "plt.show()"
      ],
      "id": "24ad4cd3",
      "execution_count": null,
      "outputs": []
    },
    {
      "cell_type": "markdown",
      "metadata": {},
      "source": [
        "- room_type: Private room and Entire home/apt are the two most common types, and Shared room is very rare\n",
        "- instant_bookable: Most listings do not support instant booking, which means this variable may have explanatory power in the model\n",
        "\n",
        "#### Correlation Exploration\n",
        "Use a scatter plot to check whether number_of_reviews is correlated with review-based variables. This helps validate whether reviews are a reasonable proxy for bookings."
      ],
      "id": "71c27705"
    },
    {
      "cell_type": "code",
      "metadata": {},
      "source": [
        "# | code-fold: true\n",
        "# | code-summary: \"number_of_reviews correlation with review-based variables\"\n",
        "plt.figure(figsize=(6, 5))\n",
        "sns.scatterplot(data=airbnb, x=\"number_of_reviews\", y=\"review_scores_value\", alpha=0.3)\n",
        "plt.title(\"Number of Reviews vs. Review Score (Value)\")\n",
        "plt.xlabel(\"Number of Reviews\")\n",
        "plt.ylabel(\"Review Score - Value\")\n",
        "plt.tight_layout()\n",
        "plt.show()"
      ],
      "id": "5d041128",
      "execution_count": null,
      "outputs": []
    },
    {
      "cell_type": "markdown",
      "metadata": {},
      "source": [
        "- From the scatter plot of number_of_reviews vs. review_scores_value, there is a positive correlation trend to a certain extent.\n",
        "- Shows that the number of reviews is somewhat correlated with user satisfaction, supporting the use of the number of reviews as a proxy variable for the number of orders.\n",
        "\n",
        "\n",
        "### Poisson Regression Model\n"
      ],
      "id": "c07d8398"
    },
    {
      "cell_type": "code",
      "metadata": {},
      "source": [
        "# | code-fold: true\n",
        "# | code-summary: \"Visualize the relationship between price and number of reviews\"\n",
        "\n",
        "import pandas as pd\n",
        "import numpy as np\n",
        "import statsmodels.api as sm\n",
        "\n",
        "cols = [\"price\", \"number_of_reviews\", \"instant_bookable\", \"room_type\",\n",
        "        \"review_scores_cleanliness\", \"review_scores_location\",\n",
        "        \"review_scores_value\", \"bathrooms\", \"bedrooms\", \"days\"]\n",
        "df = airbnb.dropna(subset=cols).copy()\n",
        "\n",
        "df[\"log_price\"] = np.log1p(df[\"price\"])  \n",
        "df[\"instant_bookable\"] = df[\"instant_bookable\"].map({\"t\": 1, \"f\": 0}).astype(int)  \n",
        "\n",
        "df = pd.get_dummies(df, columns=[\"room_type\"], drop_first=True)\n",
        "\n",
        "feature_cols = [\"log_price\", \"days\", \"bathrooms\", \"bedrooms\",\n",
        "                \"review_scores_cleanliness\", \"review_scores_location\",\n",
        "                \"review_scores_value\", \"instant_bookable\"] + \\\n",
        "               [col for col in df.columns if col.startswith(\"room_type_\")]\n",
        "X = df[feature_cols].astype(float)\n",
        "X = sm.add_constant(X)\n",
        "\n",
        "Y = df[\"number_of_reviews\"]\n",
        "\n",
        "model = sm.GLM(Y, X, family=sm.families.Poisson())\n",
        "result = model.fit()\n",
        "\n",
        "summary_df = result.summary2().tables[1].copy()\n",
        "summary_df[\"exp(coef)\"] = np.exp(summary_df[\"Coef.\"])\n",
        "summary_df[\"Significance\"] = summary_df[\"P>|z|\"].apply(\n",
        "    lambda p: \"***\" if p < 0.001 else \"**\" if p < 0.01 else \"*\" if p < 0.05 else \"\")\n",
        "summary_df = summary_df.rename(columns={\n",
        "    \"Coef.\": \"coef\", \"Std.Err.\": \"std err\", \"P>|z|\": \"P>|z|\",\n",
        "    \"[0.025\": \"[0.025\", \"0.975]\": \"0.975]\"\n",
        "}).reset_index()\n",
        "\n",
        "final_output_df = summary_df[[\n",
        "    \"index\", \"coef\", \"std err\", \"exp(coef)\", \"P>|z|\", \"Significance\", \"[0.025\", \"0.975]\"\n",
        "]].rename(columns={\"index\": \"Variable\"})\n",
        "\n",
        "final_output_df.round(3).head(10)"
      ],
      "id": "6abcb39a",
      "execution_count": null,
      "outputs": []
    },
    {
      "cell_type": "markdown",
      "metadata": {},
      "source": [
        "#### Modele Coefficient Interpretation"
      ],
      "id": "26e95a0a"
    },
    {
      "cell_type": "code",
      "metadata": {},
      "source": [
        "# | code-fold: true\n",
        "# | code-summary: \"Visualize the relationship between price and number of reviews\"\n",
        "sns.scatterplot(data=airbnb_cleaned, x='price', y='number_of_reviews', alpha=0.5)\n",
        "plt.title('Number of Reviews vs Price')\n",
        "plt.xlabel('Price')\n",
        "plt.ylabel('Number of Reviews')\n",
        "plt.show()"
      ],
      "id": "f031d0ec",
      "execution_count": null,
      "outputs": []
    },
    {
      "cell_type": "markdown",
      "metadata": {},
      "source": [
        "### Model Interpretation\n",
        "In this analysis, we used a Poisson regression model to predict the number of Airbnb reviews, treating review count as a proxy for bookings. The model included predictors such as price, instant bookability, review scores, and property features. Because Poisson regression coefficients are in log form, we exponentiate them (exp(β)) to interpret their impact as multiplicative effects on the expected number of reviews.\n",
        "\n",
        "Key findings from the model are as follows:\n",
        "\n",
        "- Price (log-transformed)<br>\n",
        "The coefficient for log(price) is 0.135, with exp(β) = 1.14. This indicates that a one-unit increase in log price is associated with a 14% increase in expected review count, suggesting that higher-priced listings may gain more visibility or attract more interest.\n",
        "- Instant Bookable<br>\n",
        "The coefficient is 0.341, with exp(β) = 1.41. Listings that support instant booking are expected to receive 41% more reviews than those that do not, highlighting the importance of booking convenience in driving customer engagement.\n",
        "- Review Scores: Cleanliness<br>\n",
        "With a coefficient of 0.109 and exp(β) = 1.11, each one-point increase in cleanliness score corresponds to an 11% increase in expected review count, underscoring how important cleanliness is in guest satisfaction and feedback.\n",
        "- Review Scores: Location<br>\n",
        "The coefficient is -0.098, with exp(β) = 0.91, meaning that a higher location score is unexpectedly associated with fewer reviews. This may suggest that guests are less inclined to leave feedback when location expectations are already met, or it may reflect an unobserved confounder.\n",
        "\n",
        "Overall, the model provides interpretable and statistically significant insights into the factors influencing review counts. These results support the idea that certain listing features—especially instant bookability and cleanliness—play a meaningful role in increasing engagement, and they can inform host strategy and platform design going forward.\n",
        "\n",
        "### Conclusion\n",
        "\n",
        "This analysis demonstrates how listing characteristics on Airbnb relate to the number of reviews, which we use as a proxy for booking activity. Through a series of exploratory data analysis steps and a Poisson regression model, we identified key factors that significantly influence review count.\n",
        "\n",
        "Among these, instant bookability, listing price, and cleanliness score emerge as the strongest predictors. Listings that allow instant booking are associated with a 41% increase in expected review count, highlighting the role of convenience in driving user engagement. Similarly, listings with higher prices and better cleanliness scores tend to receive more reviews, suggesting that both perceived quality and visibility may contribute to user response.\n",
        "\n",
        "Interestingly, location score shows a negative relationship with review count. While counterintuitive, this may reflect a behavioral trend where guests are less likely to leave feedback when their expectations are met—or it could indicate unobserved variables influencing this dynamic.\n",
        "\n",
        "Taken together, the results confirm that certain listing features meaningfully shape guest behavior and can influence a listing’s success on the platform. These findings can guide hosts in optimizing their property features and booking settings, and may also inform Airbnb’s platform design and recommendation algorithms to enhance both host and guest experience."
      ],
      "id": "ed2d6c4a"
    }
  ],
  "metadata": {
    "kernelspec": {
      "name": "python3",
      "language": "python",
      "display_name": "Python 3 (ipykernel)",
      "path": "/opt/conda/share/jupyter/kernels/python3"
    }
  },
  "nbformat": 4,
  "nbformat_minor": 5
}